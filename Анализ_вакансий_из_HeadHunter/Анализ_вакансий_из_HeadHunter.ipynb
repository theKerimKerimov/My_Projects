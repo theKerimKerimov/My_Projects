{
 "cells": [
  {
   "cell_type": "markdown",
   "id": "42289889-bd57-434e-9637-d3e354756316",
   "metadata": {
    "id": "42289889-bd57-434e-9637-d3e354756316"
   },
   "source": [
    "<center> <img src = https://raw.githubusercontent.com/AndreyRysistov/DatasetsForPandas/main/hh%20label.jpg alt=\"drawing\" style=\"width:400px;\">"
   ]
  },
  {
   "cell_type": "markdown",
   "id": "829cb75b-f14e-4ba8-9195-7ba929a7d656",
   "metadata": {
    "id": "829cb75b-f14e-4ba8-9195-7ba929a7d656",
    "tags": []
   },
   "source": [
    "# <center> Проект: Анализ вакансий из HeadHunter\n",
    "   "
   ]
  },
  {
   "cell_type": "code",
   "execution_count": null,
   "id": "dccfde33-2452-43fb-a8a5-5c6ebc02a71d",
   "metadata": {
    "id": "dccfde33-2452-43fb-a8a5-5c6ebc02a71d"
   },
   "outputs": [],
   "source": [
    "import pandas as pd\n",
    "import psycopg2"
   ]
  },
  {
   "cell_type": "code",
   "execution_count": null,
   "id": "oVKH4ehvf8Ay",
   "metadata": {
    "id": "oVKH4ehvf8Ay"
   },
   "outputs": [],
   "source": [
    "DBNAME = 'skillfactory'\n",
    "USER = 'skillfactory'\n",
    "PASSWORD = 'cCkxxLVrDE8EbvjueeMedPKt'\n",
    "HOST = '84.201.134.129'\n",
    "PORT = 5432"
   ]
  },
  {
   "cell_type": "code",
   "execution_count": null,
   "id": "G4X_q8KBf7SF",
   "metadata": {
    "id": "G4X_q8KBf7SF"
   },
   "outputs": [],
   "source": [
    "connection = psycopg2.connect(\n",
    "    dbname='project_sql',\n",
    "    user='skillfactory',\n",
    "    password='cCkxxLVrDE8EbvjueeMedPKt',\n",
    "    host='84.201.134.129',\n",
    "    port=5432\n",
    ") "
   ]
  },
  {
   "cell_type": "markdown",
   "id": "0dc6476b-7a00-44f1-ac93-6e3baed33a29",
   "metadata": {
    "id": "0dc6476b-7a00-44f1-ac93-6e3baed33a29"
   },
   "source": [
    "# Юнит 3. Предварительный анализ данных"
   ]
  },
  {
   "cell_type": "markdown",
   "id": "889782b6-8d1c-410e-8920-e57f27917c64",
   "metadata": {
    "id": "889782b6-8d1c-410e-8920-e57f27917c64"
   },
   "source": [
    "1. Напишите запрос, который посчитает количество вакансий в нашей базе (вакансии находятся в таблице vacancies). "
   ]
  },
  {
   "cell_type": "code",
   "execution_count": null,
   "id": "bc39e68e-ed02-4ee2-9235-7258a2f867a8",
   "metadata": {
    "id": "bc39e68e-ed02-4ee2-9235-7258a2f867a8"
   },
   "outputs": [],
   "source": [
    "query_3_1 = \"\"\"\n",
    "SELECT *\n",
    "FROM vacancies;\n",
    "\"\"\""
   ]
  },
  {
   "cell_type": "code",
   "execution_count": null,
   "id": "7mAwtsk4hEHY",
   "metadata": {
    "id": "7mAwtsk4hEHY"
   },
   "outputs": [
    {
     "name": "stderr",
     "output_type": "stream",
     "text": [
      "C:\\Users\\kkeri\\AppData\\Local\\Temp\\ipykernel_13152\\1393861735.py:1: UserWarning: pandas only supports SQLAlchemy connectable (engine/connection) or database string URI or sqlite3 DBAPI2 connection. Other DBAPI2 objects are not tested. Please consider using SQLAlchemy.\n",
      "  df = pd.read_sql_query(query_3_1, connection)\n"
     ]
    },
    {
     "data": {
      "text/html": [
       "<div>\n",
       "<style scoped>\n",
       "    .dataframe tbody tr th:only-of-type {\n",
       "        vertical-align: middle;\n",
       "    }\n",
       "\n",
       "    .dataframe tbody tr th {\n",
       "        vertical-align: top;\n",
       "    }\n",
       "\n",
       "    .dataframe thead th {\n",
       "        text-align: right;\n",
       "    }\n",
       "</style>\n",
       "<table border=\"1\" class=\"dataframe\">\n",
       "  <thead>\n",
       "    <tr style=\"text-align: right;\">\n",
       "      <th></th>\n",
       "      <th>id</th>\n",
       "      <th>name</th>\n",
       "      <th>key_skills</th>\n",
       "      <th>schedule</th>\n",
       "      <th>experience</th>\n",
       "      <th>employment</th>\n",
       "      <th>salary_from</th>\n",
       "      <th>salary_to</th>\n",
       "      <th>area_id</th>\n",
       "      <th>employer_id</th>\n",
       "    </tr>\n",
       "  </thead>\n",
       "  <tbody>\n",
       "    <tr>\n",
       "      <th>0</th>\n",
       "      <td>55312386</td>\n",
       "      <td>Компьютерный Мастер</td>\n",
       "      <td>Пользователь ПК\\tРабота в команде\\tРемонт ноут...</td>\n",
       "      <td>Полный день</td>\n",
       "      <td>Нет опыта</td>\n",
       "      <td>Полная занятость</td>\n",
       "      <td>64000.0</td>\n",
       "      <td>NaN</td>\n",
       "      <td>1516</td>\n",
       "      <td>5724811</td>\n",
       "    </tr>\n",
       "    <tr>\n",
       "      <th>1</th>\n",
       "      <td>55843014</td>\n",
       "      <td>Системный администратор</td>\n",
       "      <td>Средства криптографической защиты информации\\t...</td>\n",
       "      <td>Полный день</td>\n",
       "      <td>От 3 до 6 лет</td>\n",
       "      <td>Полная занятость</td>\n",
       "      <td>NaN</td>\n",
       "      <td>NaN</td>\n",
       "      <td>130</td>\n",
       "      <td>4903713</td>\n",
       "    </tr>\n",
       "    <tr>\n",
       "      <th>2</th>\n",
       "      <td>54525964</td>\n",
       "      <td>Lead Java Developer to Poland</td>\n",
       "      <td>Spring Framework\\tSQL\\tHibernate ORM\\tJava\\tGit</td>\n",
       "      <td>Удаленная работа</td>\n",
       "      <td>От 3 до 6 лет</td>\n",
       "      <td>Полная занятость</td>\n",
       "      <td>NaN</td>\n",
       "      <td>NaN</td>\n",
       "      <td>160</td>\n",
       "      <td>69961</td>\n",
       "    </tr>\n",
       "    <tr>\n",
       "      <th>3</th>\n",
       "      <td>54525965</td>\n",
       "      <td>Lead Java Developer to Poland</td>\n",
       "      <td>Spring Framework\\tSQL\\tHibernate ORM\\tJava\\tGit</td>\n",
       "      <td>Удаленная работа</td>\n",
       "      <td>От 3 до 6 лет</td>\n",
       "      <td>Полная занятость</td>\n",
       "      <td>NaN</td>\n",
       "      <td>NaN</td>\n",
       "      <td>159</td>\n",
       "      <td>69961</td>\n",
       "    </tr>\n",
       "    <tr>\n",
       "      <th>4</th>\n",
       "      <td>55354053</td>\n",
       "      <td>Специалист службы поддержки с техническими зна...</td>\n",
       "      <td>None</td>\n",
       "      <td>Удаленная работа</td>\n",
       "      <td>Нет опыта</td>\n",
       "      <td>Частичная занятость</td>\n",
       "      <td>15000.0</td>\n",
       "      <td>NaN</td>\n",
       "      <td>1955</td>\n",
       "      <td>1740</td>\n",
       "    </tr>\n",
       "    <tr>\n",
       "      <th>...</th>\n",
       "      <td>...</td>\n",
       "      <td>...</td>\n",
       "      <td>...</td>\n",
       "      <td>...</td>\n",
       "      <td>...</td>\n",
       "      <td>...</td>\n",
       "      <td>...</td>\n",
       "      <td>...</td>\n",
       "      <td>...</td>\n",
       "      <td>...</td>\n",
       "    </tr>\n",
       "    <tr>\n",
       "      <th>49192</th>\n",
       "      <td>55589514</td>\n",
       "      <td>Специалист по информационным технологиям</td>\n",
       "      <td>Электронный документооборот\\t1С: Предприятие 8...</td>\n",
       "      <td>Полный день</td>\n",
       "      <td>От 3 до 6 лет</td>\n",
       "      <td>Полная занятость</td>\n",
       "      <td>NaN</td>\n",
       "      <td>NaN</td>\n",
       "      <td>66</td>\n",
       "      <td>5109332</td>\n",
       "    </tr>\n",
       "    <tr>\n",
       "      <th>49193</th>\n",
       "      <td>55029668</td>\n",
       "      <td>Руководитель процессного офиса</td>\n",
       "      <td>Оптимизация бизнес-процессов\\tСтратегическое м...</td>\n",
       "      <td>Полный день</td>\n",
       "      <td>От 3 до 6 лет</td>\n",
       "      <td>Полная занятость</td>\n",
       "      <td>NaN</td>\n",
       "      <td>NaN</td>\n",
       "      <td>26</td>\n",
       "      <td>51333</td>\n",
       "    </tr>\n",
       "    <tr>\n",
       "      <th>49194</th>\n",
       "      <td>66172263</td>\n",
       "      <td>Начальник сервисной службы</td>\n",
       "      <td>Организаторские навыки\\tУправление персоналом\\...</td>\n",
       "      <td>Полный день</td>\n",
       "      <td>От 1 года до 3 лет</td>\n",
       "      <td>Полная занятость</td>\n",
       "      <td>60000.0</td>\n",
       "      <td>NaN</td>\n",
       "      <td>1930</td>\n",
       "      <td>4094700</td>\n",
       "    </tr>\n",
       "    <tr>\n",
       "      <th>49195</th>\n",
       "      <td>66180086</td>\n",
       "      <td>Senior IOS разработчик</td>\n",
       "      <td>Swift\\tRealm\\tiOS\\tАнглийский язык\\tMVP\\tMVVM\\...</td>\n",
       "      <td>Полный день</td>\n",
       "      <td>От 1 года до 3 лет</td>\n",
       "      <td>Полная занятость</td>\n",
       "      <td>146456.0</td>\n",
       "      <td>244094.0</td>\n",
       "      <td>160</td>\n",
       "      <td>4469939</td>\n",
       "    </tr>\n",
       "    <tr>\n",
       "      <th>49196</th>\n",
       "      <td>55547842</td>\n",
       "      <td>DataOps Engineer</td>\n",
       "      <td>None</td>\n",
       "      <td>Удаленная работа</td>\n",
       "      <td>От 3 до 6 лет</td>\n",
       "      <td>Полная занятость</td>\n",
       "      <td>NaN</td>\n",
       "      <td>NaN</td>\n",
       "      <td>160</td>\n",
       "      <td>4978627</td>\n",
       "    </tr>\n",
       "  </tbody>\n",
       "</table>\n",
       "<p>49197 rows × 10 columns</p>\n",
       "</div>"
      ],
      "text/plain": [
       "             id                                               name  \\\n",
       "0      55312386                                Компьютерный Мастер   \n",
       "1      55843014                            Системный администратор   \n",
       "2      54525964                      Lead Java Developer to Poland   \n",
       "3      54525965                      Lead Java Developer to Poland   \n",
       "4      55354053  Специалист службы поддержки с техническими зна...   \n",
       "...         ...                                                ...   \n",
       "49192  55589514           Специалист по информационным технологиям   \n",
       "49193  55029668                     Руководитель процессного офиса   \n",
       "49194  66172263                         Начальник сервисной службы   \n",
       "49195  66180086                             Senior IOS разработчик   \n",
       "49196  55547842                                   DataOps Engineer   \n",
       "\n",
       "                                              key_skills          schedule  \\\n",
       "0      Пользователь ПК\\tРабота в команде\\tРемонт ноут...       Полный день   \n",
       "1      Средства криптографической защиты информации\\t...       Полный день   \n",
       "2        Spring Framework\\tSQL\\tHibernate ORM\\tJava\\tGit  Удаленная работа   \n",
       "3        Spring Framework\\tSQL\\tHibernate ORM\\tJava\\tGit  Удаленная работа   \n",
       "4                                                   None  Удаленная работа   \n",
       "...                                                  ...               ...   \n",
       "49192  Электронный документооборот\\t1С: Предприятие 8...       Полный день   \n",
       "49193  Оптимизация бизнес-процессов\\tСтратегическое м...       Полный день   \n",
       "49194  Организаторские навыки\\tУправление персоналом\\...       Полный день   \n",
       "49195  Swift\\tRealm\\tiOS\\tАнглийский язык\\tMVP\\tMVVM\\...       Полный день   \n",
       "49196                                               None  Удаленная работа   \n",
       "\n",
       "               experience           employment  salary_from  salary_to  \\\n",
       "0               Нет опыта     Полная занятость      64000.0        NaN   \n",
       "1           От 3 до 6 лет     Полная занятость          NaN        NaN   \n",
       "2           От 3 до 6 лет     Полная занятость          NaN        NaN   \n",
       "3           От 3 до 6 лет     Полная занятость          NaN        NaN   \n",
       "4               Нет опыта  Частичная занятость      15000.0        NaN   \n",
       "...                   ...                  ...          ...        ...   \n",
       "49192       От 3 до 6 лет     Полная занятость          NaN        NaN   \n",
       "49193       От 3 до 6 лет     Полная занятость          NaN        NaN   \n",
       "49194  От 1 года до 3 лет     Полная занятость      60000.0        NaN   \n",
       "49195  От 1 года до 3 лет     Полная занятость     146456.0   244094.0   \n",
       "49196       От 3 до 6 лет     Полная занятость          NaN        NaN   \n",
       "\n",
       "       area_id  employer_id  \n",
       "0         1516      5724811  \n",
       "1          130      4903713  \n",
       "2          160        69961  \n",
       "3          159        69961  \n",
       "4         1955         1740  \n",
       "...        ...          ...  \n",
       "49192       66      5109332  \n",
       "49193       26        51333  \n",
       "49194     1930      4094700  \n",
       "49195      160      4469939  \n",
       "49196      160      4978627  \n",
       "\n",
       "[49197 rows x 10 columns]"
      ]
     },
     "metadata": {},
     "output_type": "display_data"
    },
    {
     "name": "stdout",
     "output_type": "stream",
     "text": [
      "Кол-во вакансий: 49197\n"
     ]
    }
   ],
   "source": [
    "df = pd.read_sql_query(query_3_1, connection)\n",
    "display(df)\n",
    "print(f\"Кол-во вакансий: {df.shape[0]}\")"
   ]
  },
  {
   "cell_type": "markdown",
   "id": "b583485d-1f9e-494e-ada4-80ffff7c53d6",
   "metadata": {
    "id": "b583485d-1f9e-494e-ada4-80ffff7c53d6"
   },
   "source": [
    "2. Напишите запрос, который посчитает количество работодателей (таблица employers). "
   ]
  },
  {
   "cell_type": "code",
   "execution_count": null,
   "id": "5408c52c-3407-4a63-b25b-1aafa2322d28",
   "metadata": {
    "id": "5408c52c-3407-4a63-b25b-1aafa2322d28"
   },
   "outputs": [],
   "source": [
    "query_3_2 = \"\"\"\n",
    "SELECT *\n",
    "FROM employers;\n",
    "\"\"\""
   ]
  },
  {
   "cell_type": "code",
   "execution_count": null,
   "id": "jVL4eshKhdqc",
   "metadata": {
    "id": "jVL4eshKhdqc"
   },
   "outputs": [
    {
     "name": "stderr",
     "output_type": "stream",
     "text": [
      "C:\\Users\\kkeri\\AppData\\Local\\Temp\\ipykernel_13152\\3265351030.py:1: UserWarning: pandas only supports SQLAlchemy connectable (engine/connection) or database string URI or sqlite3 DBAPI2 connection. Other DBAPI2 objects are not tested. Please consider using SQLAlchemy.\n",
      "  df = pd.read_sql_query(query_3_2, connection)\n"
     ]
    },
    {
     "data": {
      "text/html": [
       "<div>\n",
       "<style scoped>\n",
       "    .dataframe tbody tr th:only-of-type {\n",
       "        vertical-align: middle;\n",
       "    }\n",
       "\n",
       "    .dataframe tbody tr th {\n",
       "        vertical-align: top;\n",
       "    }\n",
       "\n",
       "    .dataframe thead th {\n",
       "        text-align: right;\n",
       "    }\n",
       "</style>\n",
       "<table border=\"1\" class=\"dataframe\">\n",
       "  <thead>\n",
       "    <tr style=\"text-align: right;\">\n",
       "      <th></th>\n",
       "      <th>id</th>\n",
       "      <th>name</th>\n",
       "      <th>area</th>\n",
       "    </tr>\n",
       "  </thead>\n",
       "  <tbody>\n",
       "    <tr>\n",
       "      <th>0</th>\n",
       "      <td>2393</td>\n",
       "      <td>Программный Продукт, ИТ-компания</td>\n",
       "      <td>1</td>\n",
       "    </tr>\n",
       "    <tr>\n",
       "      <th>1</th>\n",
       "      <td>72977</td>\n",
       "      <td>БАРС Груп</td>\n",
       "      <td>88</td>\n",
       "    </tr>\n",
       "    <tr>\n",
       "      <th>2</th>\n",
       "      <td>3155</td>\n",
       "      <td>Бест, Торгово-производственная компания, Екате...</td>\n",
       "      <td>3</td>\n",
       "    </tr>\n",
       "    <tr>\n",
       "      <th>3</th>\n",
       "      <td>675</td>\n",
       "      <td>КОРУС Консалтинг</td>\n",
       "      <td>2</td>\n",
       "    </tr>\n",
       "    <tr>\n",
       "      <th>4</th>\n",
       "      <td>1840010</td>\n",
       "      <td>филиал ФКУ Налог-Сервис ФНС России в Республик...</td>\n",
       "      <td>88</td>\n",
       "    </tr>\n",
       "    <tr>\n",
       "      <th>...</th>\n",
       "      <td>...</td>\n",
       "      <td>...</td>\n",
       "      <td>...</td>\n",
       "    </tr>\n",
       "    <tr>\n",
       "      <th>23496</th>\n",
       "      <td>1441774</td>\n",
       "      <td>МарКо</td>\n",
       "      <td>88</td>\n",
       "    </tr>\n",
       "    <tr>\n",
       "      <th>23497</th>\n",
       "      <td>4718575</td>\n",
       "      <td>MKomov Studio</td>\n",
       "      <td>73</td>\n",
       "    </tr>\n",
       "    <tr>\n",
       "      <th>23498</th>\n",
       "      <td>3702770</td>\n",
       "      <td>АКИБ Ипотека-банк</td>\n",
       "      <td>2759</td>\n",
       "    </tr>\n",
       "    <tr>\n",
       "      <th>23499</th>\n",
       "      <td>5636092</td>\n",
       "      <td>ГИМ-КЛИНИКА</td>\n",
       "      <td>99</td>\n",
       "    </tr>\n",
       "    <tr>\n",
       "      <th>23500</th>\n",
       "      <td>2064382</td>\n",
       "      <td>Рыббла</td>\n",
       "      <td>104</td>\n",
       "    </tr>\n",
       "  </tbody>\n",
       "</table>\n",
       "<p>23501 rows × 3 columns</p>\n",
       "</div>"
      ],
      "text/plain": [
       "            id                                               name  area\n",
       "0         2393                   Программный Продукт, ИТ-компания     1\n",
       "1        72977                                          БАРС Груп    88\n",
       "2         3155  Бест, Торгово-производственная компания, Екате...     3\n",
       "3          675                                   КОРУС Консалтинг     2\n",
       "4      1840010  филиал ФКУ Налог-Сервис ФНС России в Республик...    88\n",
       "...        ...                                                ...   ...\n",
       "23496  1441774                                              МарКо    88\n",
       "23497  4718575                                      MKomov Studio    73\n",
       "23498  3702770                                  АКИБ Ипотека-банк  2759\n",
       "23499  5636092                                        ГИМ-КЛИНИКА    99\n",
       "23500  2064382                                             Рыббла   104\n",
       "\n",
       "[23501 rows x 3 columns]"
      ]
     },
     "metadata": {},
     "output_type": "display_data"
    },
    {
     "name": "stdout",
     "output_type": "stream",
     "text": [
      "Кол-во работодателей: 23501\n"
     ]
    }
   ],
   "source": [
    "df = pd.read_sql_query(query_3_2, connection)\n",
    "display(df)\n",
    "print(f\"Кол-во работодателей: {df.shape[0]}\")"
   ]
  },
  {
   "cell_type": "markdown",
   "id": "a2bfff1f-c975-4bf6-84be-2185d79dcb76",
   "metadata": {
    "id": "a2bfff1f-c975-4bf6-84be-2185d79dcb76"
   },
   "source": [
    "3. Посчитате с помощью запроса количество регионов (таблица areas)."
   ]
  },
  {
   "cell_type": "code",
   "execution_count": null,
   "id": "1m8QJwBYhey6",
   "metadata": {
    "id": "1m8QJwBYhey6"
   },
   "outputs": [],
   "source": [
    "query_3_3 = '''\n",
    "SELECT *\n",
    "FROM areas;\n",
    "'''"
   ]
  },
  {
   "cell_type": "code",
   "execution_count": null,
   "id": "EZsn9tlfhe7f",
   "metadata": {
    "id": "EZsn9tlfhe7f"
   },
   "outputs": [
    {
     "name": "stderr",
     "output_type": "stream",
     "text": [
      "C:\\Users\\kkeri\\AppData\\Local\\Temp\\ipykernel_13152\\1456204624.py:1: UserWarning: pandas only supports SQLAlchemy connectable (engine/connection) or database string URI or sqlite3 DBAPI2 connection. Other DBAPI2 objects are not tested. Please consider using SQLAlchemy.\n",
      "  df = pd.read_sql_query(query_3_3, connection)\n"
     ]
    },
    {
     "data": {
      "text/html": [
       "<div>\n",
       "<style scoped>\n",
       "    .dataframe tbody tr th:only-of-type {\n",
       "        vertical-align: middle;\n",
       "    }\n",
       "\n",
       "    .dataframe tbody tr th {\n",
       "        vertical-align: top;\n",
       "    }\n",
       "\n",
       "    .dataframe thead th {\n",
       "        text-align: right;\n",
       "    }\n",
       "</style>\n",
       "<table border=\"1\" class=\"dataframe\">\n",
       "  <thead>\n",
       "    <tr style=\"text-align: right;\">\n",
       "      <th></th>\n",
       "      <th>id</th>\n",
       "      <th>name</th>\n",
       "    </tr>\n",
       "  </thead>\n",
       "  <tbody>\n",
       "    <tr>\n",
       "      <th>0</th>\n",
       "      <td>2758</td>\n",
       "      <td>Тбилиси</td>\n",
       "    </tr>\n",
       "    <tr>\n",
       "      <th>1</th>\n",
       "      <td>8</td>\n",
       "      <td>Майкоп</td>\n",
       "    </tr>\n",
       "    <tr>\n",
       "      <th>2</th>\n",
       "      <td>1180</td>\n",
       "      <td>Нерюнгри</td>\n",
       "    </tr>\n",
       "    <tr>\n",
       "      <th>3</th>\n",
       "      <td>1240</td>\n",
       "      <td>Новокузнецк</td>\n",
       "    </tr>\n",
       "    <tr>\n",
       "      <th>4</th>\n",
       "      <td>2</td>\n",
       "      <td>Санкт-Петербург</td>\n",
       "    </tr>\n",
       "    <tr>\n",
       "      <th>...</th>\n",
       "      <td>...</td>\n",
       "      <td>...</td>\n",
       "    </tr>\n",
       "    <tr>\n",
       "      <th>1357</th>\n",
       "      <td>5043</td>\n",
       "      <td>Звёздный Городок</td>\n",
       "    </tr>\n",
       "    <tr>\n",
       "      <th>1358</th>\n",
       "      <td>3934</td>\n",
       "      <td>Воротынск\\n</td>\n",
       "    </tr>\n",
       "    <tr>\n",
       "      <th>1359</th>\n",
       "      <td>4825</td>\n",
       "      <td>Чемал</td>\n",
       "    </tr>\n",
       "    <tr>\n",
       "      <th>1360</th>\n",
       "      <td>3708</td>\n",
       "      <td>Усть-Нера</td>\n",
       "    </tr>\n",
       "    <tr>\n",
       "      <th>1361</th>\n",
       "      <td>2432</td>\n",
       "      <td>Каневская</td>\n",
       "    </tr>\n",
       "  </tbody>\n",
       "</table>\n",
       "<p>1362 rows × 2 columns</p>\n",
       "</div>"
      ],
      "text/plain": [
       "        id              name\n",
       "0     2758           Тбилиси\n",
       "1        8            Майкоп\n",
       "2     1180          Нерюнгри\n",
       "3     1240       Новокузнецк\n",
       "4        2   Санкт-Петербург\n",
       "...    ...               ...\n",
       "1357  5043  Звёздный Городок\n",
       "1358  3934       Воротынск\\n\n",
       "1359  4825             Чемал\n",
       "1360  3708         Усть-Нера\n",
       "1361  2432         Каневская\n",
       "\n",
       "[1362 rows x 2 columns]"
      ]
     },
     "metadata": {},
     "output_type": "display_data"
    },
    {
     "name": "stdout",
     "output_type": "stream",
     "text": [
      "Кол-во регионов: 1362\n"
     ]
    }
   ],
   "source": [
    "df = pd.read_sql_query(query_3_3, connection)\n",
    "display(df)\n",
    "print(f\"Кол-во регионов: {df.shape[0]}\")"
   ]
  },
  {
   "cell_type": "markdown",
   "id": "41bb59f3-53cc-4a67-a5bc-bedf573955e4",
   "metadata": {
    "id": "41bb59f3-53cc-4a67-a5bc-bedf573955e4"
   },
   "source": [
    "4. Посчитате с помощью запроса количество сфер деятельности в базе (таблица industries)."
   ]
  },
  {
   "cell_type": "code",
   "execution_count": null,
   "id": "d286cf4c-707b-4cd2-9190-7ab3587d04a1",
   "metadata": {
    "id": "d286cf4c-707b-4cd2-9190-7ab3587d04a1"
   },
   "outputs": [],
   "source": [
    "query_3_4 = '''\n",
    "SELECT *\n",
    "FROM industries;\n",
    "'''"
   ]
  },
  {
   "cell_type": "code",
   "execution_count": null,
   "id": "JYAaoZ4qhfzW",
   "metadata": {
    "id": "JYAaoZ4qhfzW"
   },
   "outputs": [
    {
     "name": "stderr",
     "output_type": "stream",
     "text": [
      "C:\\Users\\kkeri\\AppData\\Local\\Temp\\ipykernel_13152\\3126398742.py:1: UserWarning: pandas only supports SQLAlchemy connectable (engine/connection) or database string URI or sqlite3 DBAPI2 connection. Other DBAPI2 objects are not tested. Please consider using SQLAlchemy.\n",
      "  df = pd.read_sql_query(query_3_4, connection)\n"
     ]
    },
    {
     "data": {
      "text/html": [
       "<div>\n",
       "<style scoped>\n",
       "    .dataframe tbody tr th:only-of-type {\n",
       "        vertical-align: middle;\n",
       "    }\n",
       "\n",
       "    .dataframe tbody tr th {\n",
       "        vertical-align: top;\n",
       "    }\n",
       "\n",
       "    .dataframe thead th {\n",
       "        text-align: right;\n",
       "    }\n",
       "</style>\n",
       "<table border=\"1\" class=\"dataframe\">\n",
       "  <thead>\n",
       "    <tr style=\"text-align: right;\">\n",
       "      <th></th>\n",
       "      <th>id</th>\n",
       "      <th>name</th>\n",
       "    </tr>\n",
       "  </thead>\n",
       "  <tbody>\n",
       "    <tr>\n",
       "      <th>0</th>\n",
       "      <td>7.540</td>\n",
       "      <td>Разработка программного обеспечения</td>\n",
       "    </tr>\n",
       "    <tr>\n",
       "      <th>1</th>\n",
       "      <td>7.539</td>\n",
       "      <td>Системная интеграция,  автоматизации технологи...</td>\n",
       "    </tr>\n",
       "    <tr>\n",
       "      <th>2</th>\n",
       "      <td>27.550</td>\n",
       "      <td>Безалкогольные напитки (производство)</td>\n",
       "    </tr>\n",
       "    <tr>\n",
       "      <th>3</th>\n",
       "      <td>27.551</td>\n",
       "      <td>Безалкогольные напитки (продвижение, оптовая т...</td>\n",
       "    </tr>\n",
       "    <tr>\n",
       "      <th>4</th>\n",
       "      <td>13.664</td>\n",
       "      <td>Управление и эксплуатация недвижимости</td>\n",
       "    </tr>\n",
       "    <tr>\n",
       "      <th>...</th>\n",
       "      <td>...</td>\n",
       "      <td>...</td>\n",
       "    </tr>\n",
       "    <tr>\n",
       "      <th>289</th>\n",
       "      <td>37.626</td>\n",
       "      <td>Ассоциация в сфере культуры, искусства</td>\n",
       "    </tr>\n",
       "    <tr>\n",
       "      <th>290</th>\n",
       "      <td>42.603</td>\n",
       "      <td>Табак  (производство)</td>\n",
       "    </tr>\n",
       "    <tr>\n",
       "      <th>291</th>\n",
       "      <td>29.532</td>\n",
       "      <td>Рыболовство, рыбоводство</td>\n",
       "    </tr>\n",
       "    <tr>\n",
       "      <th>292</th>\n",
       "      <td>37.627</td>\n",
       "      <td>Благотворительная организация</td>\n",
       "    </tr>\n",
       "    <tr>\n",
       "      <th>293</th>\n",
       "      <td>388.505</td>\n",
       "      <td>Оборудование для деревообработки, заготовки ле...</td>\n",
       "    </tr>\n",
       "  </tbody>\n",
       "</table>\n",
       "<p>294 rows × 2 columns</p>\n",
       "</div>"
      ],
      "text/plain": [
       "          id                                               name\n",
       "0      7.540                Разработка программного обеспечения\n",
       "1      7.539  Системная интеграция,  автоматизации технологи...\n",
       "2     27.550              Безалкогольные напитки (производство)\n",
       "3     27.551  Безалкогольные напитки (продвижение, оптовая т...\n",
       "4     13.664             Управление и эксплуатация недвижимости\n",
       "..       ...                                                ...\n",
       "289   37.626             Ассоциация в сфере культуры, искусства\n",
       "290   42.603                              Табак  (производство)\n",
       "291   29.532                           Рыболовство, рыбоводство\n",
       "292   37.627                      Благотворительная организация\n",
       "293  388.505  Оборудование для деревообработки, заготовки ле...\n",
       "\n",
       "[294 rows x 2 columns]"
      ]
     },
     "metadata": {},
     "output_type": "display_data"
    },
    {
     "name": "stdout",
     "output_type": "stream",
     "text": [
      "Кол-во сфер деятельности: 294\n"
     ]
    }
   ],
   "source": [
    "df = pd.read_sql_query(query_3_4, connection)\n",
    "display(df)\n",
    "print(f\"Кол-во сфер деятельности: {df.shape[0]}\")"
   ]
  },
  {
   "cell_type": "markdown",
   "id": "9a8a2181-6914-448b-85f1-38f5f18b8a93",
   "metadata": {
    "id": "9a8a2181-6914-448b-85f1-38f5f18b8a93"
   },
   "source": [
    "***"
   ]
  },
  {
   "cell_type": "markdown",
   "id": "ced3d582",
   "metadata": {},
   "source": [
    "# **Выводы по предварительному анализу данных**\n",
    "\n",
    "## 1. **Высокая конкуренция работодателей**\n",
    "\n",
    "- **Вакансий:** 49 197  \n",
    "- **Работодателей:** 23 501  \n",
    "- В среднем каждый работодатель разместил ~**2 вакансии**.\n",
    "\n",
    "**Вывод:**  \n",
    "Рынок достаточно диверсифицирован и не монополизирован несколькими крупными компаниями. Это указывает на активность малого и среднего бизнеса.\n",
    "\n",
    "---\n",
    "\n",
    "## 2. **Географическое разнообразие**\n",
    "\n",
    "- **Регионов:** 1 362  \n",
    "- Данные охватывают широкую географию — от крупных городов до малых населённых пунктов.\n",
    "\n",
    "**Выводы:**\n",
    "\n",
    "- Можно провести анализ по регионам: где больше всего вакансий, где выше зарплаты, где востребованы определённые навыки.\n",
    "- Интересен региональный дисбаланс — концентрация ИТ-вакансий в крупных центрах и дефицит в регионах.\n",
    "\n",
    "---\n",
    "\n",
    "## 3. **Разнообразие индустрий**\n",
    "\n",
    "- **Сфер деятельности:** 294  \n",
    "- Это говорит о широком покрытии отраслей.\n",
    "\n",
    "**Выводы:**\n",
    "\n",
    "- Возможность изучать специализацию рынка труда по отраслям: какие индустрии наиболее активны.\n",
    "- Можно сделать кластеризацию работодателей по сферам — например, IT, промышленность, медицина и т.д.\n",
    "\n",
    "---\n",
    "\n",
    "## 4. **Масштаб и пригодность для анализа**\n",
    "\n",
    "Почти **50 000 вакансий** — достаточно для:\n",
    "\n",
    "- Машинного обучения (предсказание зарплаты, классификация навыков).\n",
    "- Статистического анализа (средние по регионам/сферам).\n",
    "- Построения дашбордов и интерактивной аналитики.\n",
    "\n",
    "---"
   ]
  },
  {
   "cell_type": "markdown",
   "id": "8d62a9f3-f64e-4fe7-bdac-c4dffa16155e",
   "metadata": {
    "id": "8d62a9f3-f64e-4fe7-bdac-c4dffa16155e"
   },
   "source": [
    "# Юнит 4. Детальный анализ вакансий"
   ]
  },
  {
   "cell_type": "markdown",
   "id": "93053d3d-b284-481a-9cf7-012d7014c0e0",
   "metadata": {
    "id": "93053d3d-b284-481a-9cf7-012d7014c0e0"
   },
   "source": [
    "1. Напишите запрос, который позволит узнать, сколько (cnt) вакансий в каждом регионе (area).\n",
    "Отсортируйте по количеству вакансий в порядке убывания."
   ]
  },
  {
   "cell_type": "code",
   "execution_count": null,
   "id": "3f069da6-fdc9-4ae7-b514-fafe2675efd3",
   "metadata": {
    "id": "3f069da6-fdc9-4ae7-b514-fafe2675efd3"
   },
   "outputs": [],
   "source": [
    "top_n = 5\n",
    "\n",
    "query_4_1 = f'''\n",
    "SELECT \n",
    "    v.area_id,            -- выбираем ID региона из таблицы вакансий\n",
    "    a.name,               -- выбираем название региона из таблицы регионов\n",
    "    COUNT(*) AS cnt       -- считаем количество вакансий в каждом регионе\n",
    "FROM vacancies AS v\n",
    "JOIN areas AS a ON v.area_id = a.id   -- соединяем таблицы по региону (area_id)\n",
    "GROUP BY \n",
    "    v.area_id,            -- группируем по ID региона\n",
    "    a.name                -- и названию региона\n",
    "ORDER BY cnt DESC         -- сортируем по количеству вакансий по убыванию\n",
    "LIMIT {top_n};            -- ограничиваем результат топ-5 регионов\n",
    "'''"
   ]
  },
  {
   "cell_type": "code",
   "execution_count": null,
   "id": "P7QL86hrjhRJ",
   "metadata": {
    "id": "P7QL86hrjhRJ"
   },
   "outputs": [
    {
     "name": "stderr",
     "output_type": "stream",
     "text": [
      "C:\\Users\\kkeri\\AppData\\Local\\Temp\\ipykernel_13152\\2004364207.py:1: UserWarning: pandas only supports SQLAlchemy connectable (engine/connection) or database string URI or sqlite3 DBAPI2 connection. Other DBAPI2 objects are not tested. Please consider using SQLAlchemy.\n",
      "  df = pd.read_sql_query(query_4_1, connection)\n"
     ]
    },
    {
     "data": {
      "text/html": [
       "<div>\n",
       "<style scoped>\n",
       "    .dataframe tbody tr th:only-of-type {\n",
       "        vertical-align: middle;\n",
       "    }\n",
       "\n",
       "    .dataframe tbody tr th {\n",
       "        vertical-align: top;\n",
       "    }\n",
       "\n",
       "    .dataframe thead th {\n",
       "        text-align: right;\n",
       "    }\n",
       "</style>\n",
       "<table border=\"1\" class=\"dataframe\">\n",
       "  <thead>\n",
       "    <tr style=\"text-align: right;\">\n",
       "      <th></th>\n",
       "      <th>area_id</th>\n",
       "      <th>name</th>\n",
       "      <th>cnt</th>\n",
       "    </tr>\n",
       "  </thead>\n",
       "  <tbody>\n",
       "    <tr>\n",
       "      <th>0</th>\n",
       "      <td>1</td>\n",
       "      <td>Москва</td>\n",
       "      <td>5333</td>\n",
       "    </tr>\n",
       "    <tr>\n",
       "      <th>1</th>\n",
       "      <td>2</td>\n",
       "      <td>Санкт-Петербург</td>\n",
       "      <td>2851</td>\n",
       "    </tr>\n",
       "    <tr>\n",
       "      <th>2</th>\n",
       "      <td>1002</td>\n",
       "      <td>Минск</td>\n",
       "      <td>2112</td>\n",
       "    </tr>\n",
       "    <tr>\n",
       "      <th>3</th>\n",
       "      <td>4</td>\n",
       "      <td>Новосибирск</td>\n",
       "      <td>2006</td>\n",
       "    </tr>\n",
       "    <tr>\n",
       "      <th>4</th>\n",
       "      <td>160</td>\n",
       "      <td>Алматы</td>\n",
       "      <td>1892</td>\n",
       "    </tr>\n",
       "  </tbody>\n",
       "</table>\n",
       "</div>"
      ],
      "text/plain": [
       "   area_id             name   cnt\n",
       "0        1           Москва  5333\n",
       "1        2  Санкт-Петербург  2851\n",
       "2     1002            Минск  2112\n",
       "3        4      Новосибирск  2006\n",
       "4      160           Алматы  1892"
      ]
     },
     "metadata": {},
     "output_type": "display_data"
    }
   ],
   "source": [
    "df = pd.read_sql_query(query_4_1, connection)\n",
    "display(df)"
   ]
  },
  {
   "cell_type": "markdown",
   "id": "4266f0b6-1646-492a-88b4-2f6a46502135",
   "metadata": {
    "id": "4266f0b6-1646-492a-88b4-2f6a46502135"
   },
   "source": [
    "2. Напишите запрос, чтобы определить у какого количества вакансий заполнено хотя бы одно из двух полей с зарплатой."
   ]
  },
  {
   "cell_type": "code",
   "execution_count": null,
   "id": "0c44b350-72eb-4d65-8b54-a1fc449ba9fd",
   "metadata": {
    "id": "0c44b350-72eb-4d65-8b54-a1fc449ba9fd"
   },
   "outputs": [],
   "source": [
    "query_4_2 = '''\n",
    "SELECT COUNT(*)                -- считаем общее количество вакансий\n",
    "FROM vacancies\n",
    "WHERE \n",
    "    salary_from IS NOT NULL    -- условие: поле \"минимальная зарплата\" заполнено\n",
    "    OR \n",
    "    salary_to IS NOT NULL;     -- или поле \"максимальная зарплата\" заполнено\n",
    "'''"
   ]
  },
  {
   "cell_type": "code",
   "execution_count": null,
   "id": "rhvwaMDkoWTi",
   "metadata": {
    "id": "rhvwaMDkoWTi"
   },
   "outputs": [
    {
     "name": "stderr",
     "output_type": "stream",
     "text": [
      "C:\\Users\\kkeri\\AppData\\Local\\Temp\\ipykernel_13152\\2834659009.py:1: UserWarning: pandas only supports SQLAlchemy connectable (engine/connection) or database string URI or sqlite3 DBAPI2 connection. Other DBAPI2 objects are not tested. Please consider using SQLAlchemy.\n",
      "  df = pd.read_sql_query(query_4_2, connection)\n"
     ]
    },
    {
     "name": "stdout",
     "output_type": "stream",
     "text": [
      "Кол-во вакансий, где заполнено хотя бы одно из двух полей с зарплатой: 24073\n"
     ]
    }
   ],
   "source": [
    "df = pd.read_sql_query(query_4_2, connection)\n",
    "print(f\"Кол-во вакансий, где заполнено хотя бы одно из двух полей с зарплатой: {df.iloc[0, 0]}\")"
   ]
  },
  {
   "cell_type": "markdown",
   "id": "635c4d5d-f323-4c66-b428-50a088120aa0",
   "metadata": {
    "id": "635c4d5d-f323-4c66-b428-50a088120aa0"
   },
   "source": [
    "3. Найдите средние значения для нижней и верхней границы зарплатной вилки. Округлите значения до целого."
   ]
  },
  {
   "cell_type": "code",
   "execution_count": null,
   "id": "603cdbe4-0ec3-4106-8eaf-c73fcdd29165",
   "metadata": {
    "id": "603cdbe4-0ec3-4106-8eaf-c73fcdd29165"
   },
   "outputs": [],
   "source": [
    "query_4_3 = '''\n",
    "SELECT \n",
    "    ROUND(AVG(salary_from)) AS avg_salary_from,  -- вычисляем среднее значение минимальной зарплаты, округляем до целого\n",
    "    ROUND(AVG(salary_to)) AS avg_salary_to       -- вычисляем среднее значение максимальной зарплаты, округляем до целого\n",
    "FROM vacancies;                                 -- из таблицы вакансий\n",
    "'''"
   ]
  },
  {
   "cell_type": "code",
   "execution_count": null,
   "id": "pswpAb66ovZZ",
   "metadata": {
    "id": "pswpAb66ovZZ"
   },
   "outputs": [
    {
     "name": "stderr",
     "output_type": "stream",
     "text": [
      "C:\\Users\\kkeri\\AppData\\Local\\Temp\\ipykernel_13152\\3813681393.py:1: UserWarning: pandas only supports SQLAlchemy connectable (engine/connection) or database string URI or sqlite3 DBAPI2 connection. Other DBAPI2 objects are not tested. Please consider using SQLAlchemy.\n",
      "  df = pd.read_sql_query(query_4_3, connection)\n"
     ]
    },
    {
     "name": "stdout",
     "output_type": "stream",
     "text": [
      "Средняя нижняя граница зарплатной вилки: 71065.0 руб.\n",
      "Средняя верхняя граница зарплатной вилки: 110537.0 руб.\n"
     ]
    }
   ],
   "source": [
    "df = pd.read_sql_query(query_4_3, connection)\n",
    "print(\n",
    "    f\"Средняя нижняя граница зарплатной вилки: {df.iloc[0, 0]} руб.\\n\"\n",
    "    f\"Средняя верхняя граница зарплатной вилки: {df.iloc[0, 1]} руб.\"\n",
    ") "
   ]
  },
  {
   "cell_type": "markdown",
   "id": "f3fdaec9-5fd3-4260-9cf5-1d7406b628a5",
   "metadata": {
    "id": "f3fdaec9-5fd3-4260-9cf5-1d7406b628a5"
   },
   "source": [
    "4. Напишите запрос, который выведет количество вакансий для каждого сочетания типа рабочего графика (schedule) и типа трудоустройства (employment), используемого в вакансиях. Результат отсортируйте по убыванию количества.\n"
   ]
  },
  {
   "cell_type": "code",
   "execution_count": null,
   "id": "1ea710ec-871b-431e-9462-c7d0fd87011b",
   "metadata": {
    "id": "1ea710ec-871b-431e-9462-c7d0fd87011b"
   },
   "outputs": [],
   "source": [
    "query_4_4 = '''\n",
    "SELECT \n",
    "    schedule,             -- выбираем тип рабочего графика\n",
    "    employment,           -- выбираем тип трудоустройства\n",
    "    COUNT(*) AS cnt       -- считаем количество вакансий для каждой пары (график + занятость)\n",
    "FROM vacancies\n",
    "GROUP BY \n",
    "    schedule,             -- группируем по графику работы\n",
    "    employment            -- и по типу занятости\n",
    "ORDER BY cnt DESC;       -- сортируем результат по убыванию количества вакансий\n",
    "'''"
   ]
  },
  {
   "cell_type": "code",
   "execution_count": null,
   "id": "lGUVqavdo4JQ",
   "metadata": {
    "id": "lGUVqavdo4JQ"
   },
   "outputs": [
    {
     "name": "stderr",
     "output_type": "stream",
     "text": [
      "C:\\Users\\kkeri\\AppData\\Local\\Temp\\ipykernel_13152\\2829864891.py:1: UserWarning: pandas only supports SQLAlchemy connectable (engine/connection) or database string URI or sqlite3 DBAPI2 connection. Other DBAPI2 objects are not tested. Please consider using SQLAlchemy.\n",
      "  df = pd.read_sql_query(query_4_4, connection)\n"
     ]
    },
    {
     "data": {
      "text/html": [
       "<div>\n",
       "<style scoped>\n",
       "    .dataframe tbody tr th:only-of-type {\n",
       "        vertical-align: middle;\n",
       "    }\n",
       "\n",
       "    .dataframe tbody tr th {\n",
       "        vertical-align: top;\n",
       "    }\n",
       "\n",
       "    .dataframe thead th {\n",
       "        text-align: right;\n",
       "    }\n",
       "</style>\n",
       "<table border=\"1\" class=\"dataframe\">\n",
       "  <thead>\n",
       "    <tr style=\"text-align: right;\">\n",
       "      <th></th>\n",
       "      <th>schedule</th>\n",
       "      <th>employment</th>\n",
       "      <th>cnt</th>\n",
       "    </tr>\n",
       "  </thead>\n",
       "  <tbody>\n",
       "    <tr>\n",
       "      <th>0</th>\n",
       "      <td>Полный день</td>\n",
       "      <td>Полная занятость</td>\n",
       "      <td>35367</td>\n",
       "    </tr>\n",
       "    <tr>\n",
       "      <th>1</th>\n",
       "      <td>Удаленная работа</td>\n",
       "      <td>Полная занятость</td>\n",
       "      <td>7802</td>\n",
       "    </tr>\n",
       "    <tr>\n",
       "      <th>2</th>\n",
       "      <td>Гибкий график</td>\n",
       "      <td>Полная занятость</td>\n",
       "      <td>1593</td>\n",
       "    </tr>\n",
       "    <tr>\n",
       "      <th>3</th>\n",
       "      <td>Удаленная работа</td>\n",
       "      <td>Частичная занятость</td>\n",
       "      <td>1312</td>\n",
       "    </tr>\n",
       "    <tr>\n",
       "      <th>4</th>\n",
       "      <td>Сменный график</td>\n",
       "      <td>Полная занятость</td>\n",
       "      <td>940</td>\n",
       "    </tr>\n",
       "    <tr>\n",
       "      <th>5</th>\n",
       "      <td>Полный день</td>\n",
       "      <td>Стажировка</td>\n",
       "      <td>569</td>\n",
       "    </tr>\n",
       "    <tr>\n",
       "      <th>6</th>\n",
       "      <td>Вахтовый метод</td>\n",
       "      <td>Полная занятость</td>\n",
       "      <td>367</td>\n",
       "    </tr>\n",
       "    <tr>\n",
       "      <th>7</th>\n",
       "      <td>Полный день</td>\n",
       "      <td>Частичная занятость</td>\n",
       "      <td>347</td>\n",
       "    </tr>\n",
       "    <tr>\n",
       "      <th>8</th>\n",
       "      <td>Гибкий график</td>\n",
       "      <td>Частичная занятость</td>\n",
       "      <td>312</td>\n",
       "    </tr>\n",
       "    <tr>\n",
       "      <th>9</th>\n",
       "      <td>Полный день</td>\n",
       "      <td>Проектная работа</td>\n",
       "      <td>141</td>\n",
       "    </tr>\n",
       "    <tr>\n",
       "      <th>10</th>\n",
       "      <td>Удаленная работа</td>\n",
       "      <td>Проектная работа</td>\n",
       "      <td>133</td>\n",
       "    </tr>\n",
       "    <tr>\n",
       "      <th>11</th>\n",
       "      <td>Гибкий график</td>\n",
       "      <td>Стажировка</td>\n",
       "      <td>116</td>\n",
       "    </tr>\n",
       "    <tr>\n",
       "      <th>12</th>\n",
       "      <td>Сменный график</td>\n",
       "      <td>Частичная занятость</td>\n",
       "      <td>101</td>\n",
       "    </tr>\n",
       "    <tr>\n",
       "      <th>13</th>\n",
       "      <td>Удаленная работа</td>\n",
       "      <td>Стажировка</td>\n",
       "      <td>64</td>\n",
       "    </tr>\n",
       "    <tr>\n",
       "      <th>14</th>\n",
       "      <td>Гибкий график</td>\n",
       "      <td>Проектная работа</td>\n",
       "      <td>18</td>\n",
       "    </tr>\n",
       "    <tr>\n",
       "      <th>15</th>\n",
       "      <td>Сменный график</td>\n",
       "      <td>Стажировка</td>\n",
       "      <td>12</td>\n",
       "    </tr>\n",
       "    <tr>\n",
       "      <th>16</th>\n",
       "      <td>Вахтовый метод</td>\n",
       "      <td>Проектная работа</td>\n",
       "      <td>2</td>\n",
       "    </tr>\n",
       "    <tr>\n",
       "      <th>17</th>\n",
       "      <td>Сменный график</td>\n",
       "      <td>Проектная работа</td>\n",
       "      <td>1</td>\n",
       "    </tr>\n",
       "  </tbody>\n",
       "</table>\n",
       "</div>"
      ],
      "text/plain": [
       "            schedule           employment    cnt\n",
       "0        Полный день     Полная занятость  35367\n",
       "1   Удаленная работа     Полная занятость   7802\n",
       "2      Гибкий график     Полная занятость   1593\n",
       "3   Удаленная работа  Частичная занятость   1312\n",
       "4     Сменный график     Полная занятость    940\n",
       "5        Полный день           Стажировка    569\n",
       "6     Вахтовый метод     Полная занятость    367\n",
       "7        Полный день  Частичная занятость    347\n",
       "8      Гибкий график  Частичная занятость    312\n",
       "9        Полный день     Проектная работа    141\n",
       "10  Удаленная работа     Проектная работа    133\n",
       "11     Гибкий график           Стажировка    116\n",
       "12    Сменный график  Частичная занятость    101\n",
       "13  Удаленная работа           Стажировка     64\n",
       "14     Гибкий график     Проектная работа     18\n",
       "15    Сменный график           Стажировка     12\n",
       "16    Вахтовый метод     Проектная работа      2\n",
       "17    Сменный график     Проектная работа      1"
      ]
     },
     "metadata": {},
     "output_type": "display_data"
    }
   ],
   "source": [
    "df = pd.read_sql_query(query_4_4, connection)\n",
    "display(df) "
   ]
  },
  {
   "cell_type": "markdown",
   "id": "0136ffee-0ead-4a6b-b608-61d1c753a438",
   "metadata": {
    "id": "0136ffee-0ead-4a6b-b608-61d1c753a438"
   },
   "source": [
    "5. Напишите запрос, выводящий значения поля Требуемый опыт работы (experience) в порядке возрастания количества вакансий, в которых указан данный вариант опыта. "
   ]
  },
  {
   "cell_type": "code",
   "execution_count": null,
   "id": "5b3a8e79-f7ab-4008-b767-12aea3a205ea",
   "metadata": {
    "id": "5b3a8e79-f7ab-4008-b767-12aea3a205ea"
   },
   "outputs": [],
   "source": [
    "query_4_5 = '''\n",
    "SELECT \n",
    "    experience,           -- выбираем уровень требуемого опыта работы\n",
    "    COUNT(*) AS cnt       -- считаем количество вакансий для каждого уровня опыта\n",
    "FROM vacancies\n",
    "GROUP BY experience       -- группируем по опыту работы\n",
    "ORDER BY cnt ASC;         -- сортируем по возрастанию количества вакансий\n",
    "'''"
   ]
  },
  {
   "cell_type": "code",
   "execution_count": null,
   "id": "3Is64Y-hpDpq",
   "metadata": {
    "id": "3Is64Y-hpDpq"
   },
   "outputs": [
    {
     "name": "stderr",
     "output_type": "stream",
     "text": [
      "C:\\Users\\kkeri\\AppData\\Local\\Temp\\ipykernel_13152\\1123349181.py:1: UserWarning: pandas only supports SQLAlchemy connectable (engine/connection) or database string URI or sqlite3 DBAPI2 connection. Other DBAPI2 objects are not tested. Please consider using SQLAlchemy.\n",
      "  df = pd.read_sql_query(query_4_5, connection)\n"
     ]
    },
    {
     "data": {
      "text/html": [
       "<div>\n",
       "<style scoped>\n",
       "    .dataframe tbody tr th:only-of-type {\n",
       "        vertical-align: middle;\n",
       "    }\n",
       "\n",
       "    .dataframe tbody tr th {\n",
       "        vertical-align: top;\n",
       "    }\n",
       "\n",
       "    .dataframe thead th {\n",
       "        text-align: right;\n",
       "    }\n",
       "</style>\n",
       "<table border=\"1\" class=\"dataframe\">\n",
       "  <thead>\n",
       "    <tr style=\"text-align: right;\">\n",
       "      <th></th>\n",
       "      <th>experience</th>\n",
       "      <th>cnt</th>\n",
       "    </tr>\n",
       "  </thead>\n",
       "  <tbody>\n",
       "    <tr>\n",
       "      <th>0</th>\n",
       "      <td>Более 6 лет</td>\n",
       "      <td>1337</td>\n",
       "    </tr>\n",
       "    <tr>\n",
       "      <th>1</th>\n",
       "      <td>Нет опыта</td>\n",
       "      <td>7197</td>\n",
       "    </tr>\n",
       "    <tr>\n",
       "      <th>2</th>\n",
       "      <td>От 3 до 6 лет</td>\n",
       "      <td>14511</td>\n",
       "    </tr>\n",
       "    <tr>\n",
       "      <th>3</th>\n",
       "      <td>От 1 года до 3 лет</td>\n",
       "      <td>26152</td>\n",
       "    </tr>\n",
       "  </tbody>\n",
       "</table>\n",
       "</div>"
      ],
      "text/plain": [
       "           experience    cnt\n",
       "0         Более 6 лет   1337\n",
       "1           Нет опыта   7197\n",
       "2       От 3 до 6 лет  14511\n",
       "3  От 1 года до 3 лет  26152"
      ]
     },
     "metadata": {},
     "output_type": "display_data"
    }
   ],
   "source": [
    "df = pd.read_sql_query(query_4_5, connection)\n",
    "display(df) "
   ]
  },
  {
   "cell_type": "markdown",
   "id": "oq2b7n1QpIka",
   "metadata": {
    "id": "oq2b7n1QpIka"
   },
   "source": [
    "***"
   ]
  },
  {
   "cell_type": "markdown",
   "id": "3580be42",
   "metadata": {},
   "source": [
    "# **Выводы по детальному анализу вакансий**\n",
    "\n",
    "## 1. **Распределение вакансий по регионам**\n",
    "\n",
    "Ведущие города по числу вакансий:\n",
    "\n",
    "| Регион            | Вакансий |\n",
    "|-------------------|----------|\n",
    "| Москва            | 5 333    |\n",
    "| Санкт-Петербург   | 2 851    |\n",
    "| Минск             | 2 112    |\n",
    "| Новосибирск       | 2 006    |\n",
    "| Алматы            | 1 892    |\n",
    "\n",
    "**Выводы:**\n",
    "\n",
    "- рынок вакансий концентрируется в крупнейших городах и включает зарубежные направления (Минск, Алматы);\n",
    "- можно проанализировать распределение спроса по регионам и выявить центры ИТ-активности.\n",
    "\n",
    "---\n",
    "\n",
    "## 2. **Заполненность зарплатных данных**\n",
    "\n",
    "- Кол-во вакансий, где заполнено хотя бы одно поле `salary_from` или `salary_to`: **24 073**\n",
    "- Всего вакансий: **49 197**\n",
    "\n",
    "**Примерно половина** вакансий содержит зарплатную информацию.\n",
    "\n",
    "**Выводы:**\n",
    "\n",
    "- значительная доля вакансий не раскрывает уровень оплаты — это снижает прозрачность рынка;\n",
    "- при анализе зарплат необходимо учитывать, что выборка не полная.\n",
    "\n",
    "---\n",
    "\n",
    "## 3. **Средние значения зарплатной вилки**\n",
    "\n",
    "- Средняя нижняя граница: **71 065 руб.**\n",
    "- Средняя верхняя граница: **110 537 руб.**\n",
    "\n",
    "**Выводы:**\n",
    "\n",
    "- средняя разница между `from` и `to` — ~40 000 руб., что может отражать:\n",
    "  - разницу по квалификации внутри одной позиции;\n",
    "  - включение бонусов/премий;\n",
    "  - субъективную вилку работодателя;\n",
    "- можно сегментировать вакансии по уровню (Junior / Middle / Senior), если добавить дополнительную классификацию.\n",
    "\n",
    "---\n",
    "\n",
    "## 4. **Популярные форматы работы**\n",
    "\n",
    "Топ-3 сочетания `schedule + employment`:\n",
    "\n",
    "| График            | Занятость         | Вакансий |\n",
    "|-------------------|-------------------|----------|\n",
    "| Полный день       | Полная занятость  | 35 367   |\n",
    "| Удалённая работа  | Полная занятость  | 7 802    |\n",
    "| Гибкий график     | Полная занятость  | 1 593    |\n",
    "\n",
    "**Редкие форматы:**\n",
    "\n",
    "- Вахтовый метод + Проектная работа — 2 вакансии  \n",
    "- Сменный график + Проектная работа — 1 вакансия\n",
    "\n",
    "**Выводы:**\n",
    "\n",
    "- рынок ориентирован на стабильные форматы (полный день, полная занятость);\n",
    "- удалёнка активно используется и занимает 2-е место;\n",
    "- гибкие и проектные занятости — нишевые и редкие.\n",
    "\n",
    "---\n",
    "\n",
    "## 5. **Опыт работы в вакансиях**\n",
    "\n",
    "| Опыт               | Вакансий |\n",
    "|--------------------|----------|\n",
    "| Более 6 лет        | 1 337    |\n",
    "| Нет опыта          | 7 197    |\n",
    "| От 3 до 6 лет      | 14 511   |\n",
    "| От 1 года до 3 лет | 26 152   |\n",
    "\n",
    "**Выводы:**\n",
    "\n",
    "- более половины вакансий ориентированы на **Middle-специалистов** (1–3 года опыта);\n",
    "- без опыта — только ~14% вакансий;\n",
    "- опытные специалисты (6+ лет) — редкий сегмент, вероятно, закрывается напрямую или через headhunting;\n",
    "- есть потенциал для построения рекомендательной системы по опыту и сопоставления с другими параметрами.\n",
    "\n",
    "---"
   ]
  },
  {
   "cell_type": "markdown",
   "id": "7ea20ab6-04a7-40a0-adec-443a0e5a42c3",
   "metadata": {
    "id": "7ea20ab6-04a7-40a0-adec-443a0e5a42c3"
   },
   "source": [
    "# Юнит 5. Анализ работодателей"
   ]
  },
  {
   "cell_type": "markdown",
   "id": "968aed80-74ef-4ffb-b5bf-c65b84e9caea",
   "metadata": {
    "id": "968aed80-74ef-4ffb-b5bf-c65b84e9caea"
   },
   "source": [
    "1. Напишите запрос, который позволит узнать, какие работодатели находятся на первом и пятом месте по количеству вакансий."
   ]
  },
  {
   "cell_type": "code",
   "execution_count": null,
   "id": "f2d62796-d400-4ec1-a675-88112739a50e",
   "metadata": {
    "id": "f2d62796-d400-4ec1-a675-88112739a50e"
   },
   "outputs": [],
   "source": [
    "top1 = 1\n",
    "\n",
    "query_first = f'''\n",
    "SELECT\n",
    "    v.employer_id,           -- выбираем ID работодателя из таблицы вакансий\n",
    "    e.name,                  -- выбираем название работодателя из таблицы работодателей\n",
    "    COUNT(*) AS cnt          -- считаем количество вакансий для каждого работодателя\n",
    "FROM vacancies AS v\n",
    "JOIN employers AS e ON v.employer_id = e.id  -- соединяем таблицы по ID работодателя\n",
    "GROUP BY v.employer_id, e.name                -- группируем по работодателю\n",
    "ORDER BY cnt DESC                             -- сортируем по убыванию количества вакансий\n",
    "LIMIT {top1};                                -- берем только топ-1 работодателя\n",
    "'''\n",
    "\n",
    "top5 = 1\n",
    "offset5 = 4\n",
    "\n",
    "query_fifth = f'''\n",
    "SELECT\n",
    "    v.employer_id,           -- выбираем ID работодателя из таблицы вакансий\n",
    "    e.name,                  -- выбираем название работодателя из таблицы работодателей\n",
    "    COUNT(*) AS cnt          -- считаем количество вакансий для каждого работодателя\n",
    "FROM vacancies AS v\n",
    "JOIN employers AS e ON v.employer_id = e.id  -- соединяем таблицы по ID работодателя\n",
    "GROUP BY v.employer_id, e.name                -- группируем по работодателю\n",
    "ORDER BY cnt DESC                             -- сортируем по убыванию количества вакансий\n",
    "LIMIT {top5} OFFSET {offset5};                -- берем 5-го работодателя (сдвигаемся на 4 позиции и берем 1)\n",
    "'''"
   ]
  },
  {
   "cell_type": "code",
   "execution_count": null,
   "id": "64tOMkAxqkQk",
   "metadata": {
    "id": "64tOMkAxqkQk"
   },
   "outputs": [
    {
     "name": "stderr",
     "output_type": "stream",
     "text": [
      "C:\\Users\\kkeri\\AppData\\Local\\Temp\\ipykernel_13152\\3285601082.py:1: UserWarning: pandas only supports SQLAlchemy connectable (engine/connection) or database string URI or sqlite3 DBAPI2 connection. Other DBAPI2 objects are not tested. Please consider using SQLAlchemy.\n",
      "  df_first = pd.read_sql_query(query_first, connection)\n",
      "C:\\Users\\kkeri\\AppData\\Local\\Temp\\ipykernel_13152\\3285601082.py:2: UserWarning: pandas only supports SQLAlchemy connectable (engine/connection) or database string URI or sqlite3 DBAPI2 connection. Other DBAPI2 objects are not tested. Please consider using SQLAlchemy.\n",
      "  df_fifth = pd.read_sql_query(query_fifth, connection)\n"
     ]
    },
    {
     "name": "stdout",
     "output_type": "stream",
     "text": [
      "Работодатель на 1-м месте: Яндекс с 1933 вакансиями\n",
      "Работодатель на 5-м месте: Газпром нефть с 331 вакансиями\n"
     ]
    }
   ],
   "source": [
    "df_first = pd.read_sql_query(query_first, connection)\n",
    "df_fifth = pd.read_sql_query(query_fifth, connection)\n",
    "print(f\"Работодатель на 1-м месте: {df_first.iloc[0]['name']} с {df_first.iloc[0]['cnt']} вакансиями\")\n",
    "print(f\"Работодатель на 5-м месте: {df_fifth.iloc[0]['name']} с {df_fifth.iloc[0]['cnt']} вакансиями\") "
   ]
  },
  {
   "cell_type": "markdown",
   "id": "68377cfc-b378-43dc-ab7d-1195abf2c515",
   "metadata": {
    "id": "68377cfc-b378-43dc-ab7d-1195abf2c515"
   },
   "source": [
    "2. Напишите запрос, который для каждого региона выведет количество работодателей и вакансий в нём.\n",
    "Среди регионов, в которых нет вакансий, найдите тот, в котором наибольшее количество работодателей."
   ]
  },
  {
   "cell_type": "code",
   "execution_count": null,
   "id": "dd7df27a-e3e8-412e-a21a-5d389b71e891",
   "metadata": {
    "id": "dd7df27a-e3e8-412e-a21a-5d389b71e891"
   },
   "outputs": [],
   "source": [
    "query_5_2_table = '''\n",
    "SELECT \n",
    "    a.id,                           -- выбираем ID региона\n",
    "    a.name,                         -- выбираем название региона\n",
    "    COUNT(DISTINCT e.id) AS employers_cnt,   -- считаем уникальное количество работодателей в регионе\n",
    "    COUNT(DISTINCT v.id) AS vacancies_cnt     -- считаем уникальное количество вакансий в регионе\n",
    "FROM areas AS a\n",
    "LEFT JOIN employers AS e ON e.area = a.id         -- лево присоединяем работодателей по региону\n",
    "LEFT JOIN vacancies AS v ON v.area_id = a.id      -- лево присоединяем вакансии по региону\n",
    "GROUP BY \n",
    "    a.id, \n",
    "    a.name\n",
    "ORDER BY \n",
    "    vacancies_cnt ASC,          -- сортируем сначала по возрастанию числа вакансий (чтобы регионы без вакансий были сверху)\n",
    "    employers_cnt DESC;         -- затем по убыванию числа работодателей\n",
    "'''\n",
    "\n",
    "query_5_2_top_region = '''\n",
    "SELECT \n",
    "    a.id,                            -- выбираем ID региона\n",
    "    a.name,                          -- выбираем название региона\n",
    "    COUNT(DISTINCT e.id) AS employers_cnt,   -- считаем уникальное количество работодателей\n",
    "    COUNT(DISTINCT v.id) AS vacancies_cnt    -- считаем уникальное количество вакансий\n",
    "FROM areas AS a\n",
    "LEFT JOIN employers AS e ON e.area = a.id          -- лево присоединяем работодателей по региону\n",
    "LEFT JOIN vacancies AS v ON v.area_id = a.id       -- лево присоединяем вакансии по региону\n",
    "GROUP BY \n",
    "    a.id, \n",
    "    a.name\n",
    "HAVING COUNT(v.id) = 0               -- фильтруем регионы, где нет вакансий\n",
    "ORDER BY employers_cnt DESC          -- сортируем по убыванию количества работодателей\n",
    "LIMIT 1;                            -- берём регион с максимальным числом работодателей среди регионов без вакансий\n",
    "'''"
   ]
  },
  {
   "cell_type": "code",
   "execution_count": null,
   "id": "x1ikWbydrbf6",
   "metadata": {
    "id": "x1ikWbydrbf6"
   },
   "outputs": [
    {
     "name": "stderr",
     "output_type": "stream",
     "text": [
      "C:\\Users\\kkeri\\AppData\\Local\\Temp\\ipykernel_13152\\2887776427.py:1: UserWarning: pandas only supports SQLAlchemy connectable (engine/connection) or database string URI or sqlite3 DBAPI2 connection. Other DBAPI2 objects are not tested. Please consider using SQLAlchemy.\n",
      "  df_table = pd.read_sql_query(query_5_2_table, connection)\n"
     ]
    },
    {
     "data": {
      "text/html": [
       "<div>\n",
       "<style scoped>\n",
       "    .dataframe tbody tr th:only-of-type {\n",
       "        vertical-align: middle;\n",
       "    }\n",
       "\n",
       "    .dataframe tbody tr th {\n",
       "        vertical-align: top;\n",
       "    }\n",
       "\n",
       "    .dataframe thead th {\n",
       "        text-align: right;\n",
       "    }\n",
       "</style>\n",
       "<table border=\"1\" class=\"dataframe\">\n",
       "  <thead>\n",
       "    <tr style=\"text-align: right;\">\n",
       "      <th></th>\n",
       "      <th>id</th>\n",
       "      <th>name</th>\n",
       "      <th>employers_cnt</th>\n",
       "      <th>vacancies_cnt</th>\n",
       "    </tr>\n",
       "  </thead>\n",
       "  <tbody>\n",
       "    <tr>\n",
       "      <th>0</th>\n",
       "      <td>113</td>\n",
       "      <td>Россия</td>\n",
       "      <td>410</td>\n",
       "      <td>0</td>\n",
       "    </tr>\n",
       "    <tr>\n",
       "      <th>1</th>\n",
       "      <td>40</td>\n",
       "      <td>Казахстан</td>\n",
       "      <td>207</td>\n",
       "      <td>0</td>\n",
       "    </tr>\n",
       "    <tr>\n",
       "      <th>2</th>\n",
       "      <td>2019</td>\n",
       "      <td>Московская область</td>\n",
       "      <td>75</td>\n",
       "      <td>0</td>\n",
       "    </tr>\n",
       "    <tr>\n",
       "      <th>3</th>\n",
       "      <td>1438</td>\n",
       "      <td>Краснодарский край</td>\n",
       "      <td>19</td>\n",
       "      <td>0</td>\n",
       "    </tr>\n",
       "    <tr>\n",
       "      <th>4</th>\n",
       "      <td>1530</td>\n",
       "      <td>Ростовская область</td>\n",
       "      <td>18</td>\n",
       "      <td>0</td>\n",
       "    </tr>\n",
       "    <tr>\n",
       "      <th>...</th>\n",
       "      <td>...</td>\n",
       "      <td>...</td>\n",
       "      <td>...</td>\n",
       "      <td>...</td>\n",
       "    </tr>\n",
       "    <tr>\n",
       "      <th>1357</th>\n",
       "      <td>160</td>\n",
       "      <td>Алматы</td>\n",
       "      <td>721</td>\n",
       "      <td>1892</td>\n",
       "    </tr>\n",
       "    <tr>\n",
       "      <th>1358</th>\n",
       "      <td>4</td>\n",
       "      <td>Новосибирск</td>\n",
       "      <td>573</td>\n",
       "      <td>2006</td>\n",
       "    </tr>\n",
       "    <tr>\n",
       "      <th>1359</th>\n",
       "      <td>1002</td>\n",
       "      <td>Минск</td>\n",
       "      <td>1115</td>\n",
       "      <td>2112</td>\n",
       "    </tr>\n",
       "    <tr>\n",
       "      <th>1360</th>\n",
       "      <td>2</td>\n",
       "      <td>Санкт-Петербург</td>\n",
       "      <td>2217</td>\n",
       "      <td>2851</td>\n",
       "    </tr>\n",
       "    <tr>\n",
       "      <th>1361</th>\n",
       "      <td>1</td>\n",
       "      <td>Москва</td>\n",
       "      <td>5864</td>\n",
       "      <td>5333</td>\n",
       "    </tr>\n",
       "  </tbody>\n",
       "</table>\n",
       "<p>1362 rows × 4 columns</p>\n",
       "</div>"
      ],
      "text/plain": [
       "        id                name  employers_cnt  vacancies_cnt\n",
       "0      113              Россия            410              0\n",
       "1       40           Казахстан            207              0\n",
       "2     2019  Московская область             75              0\n",
       "3     1438  Краснодарский край             19              0\n",
       "4     1530  Ростовская область             18              0\n",
       "...    ...                 ...            ...            ...\n",
       "1357   160              Алматы            721           1892\n",
       "1358     4         Новосибирск            573           2006\n",
       "1359  1002               Минск           1115           2112\n",
       "1360     2     Санкт-Петербург           2217           2851\n",
       "1361     1              Москва           5864           5333\n",
       "\n",
       "[1362 rows x 4 columns]"
      ]
     },
     "metadata": {},
     "output_type": "display_data"
    },
    {
     "name": "stderr",
     "output_type": "stream",
     "text": [
      "C:\\Users\\kkeri\\AppData\\Local\\Temp\\ipykernel_13152\\2887776427.py:4: UserWarning: pandas only supports SQLAlchemy connectable (engine/connection) or database string URI or sqlite3 DBAPI2 connection. Other DBAPI2 objects are not tested. Please consider using SQLAlchemy.\n",
      "  df_top_region = pd.read_sql_query(query_5_2_top_region, connection)\n"
     ]
    },
    {
     "data": {
      "text/html": [
       "<div>\n",
       "<style scoped>\n",
       "    .dataframe tbody tr th:only-of-type {\n",
       "        vertical-align: middle;\n",
       "    }\n",
       "\n",
       "    .dataframe tbody tr th {\n",
       "        vertical-align: top;\n",
       "    }\n",
       "\n",
       "    .dataframe thead th {\n",
       "        text-align: right;\n",
       "    }\n",
       "</style>\n",
       "<table border=\"1\" class=\"dataframe\">\n",
       "  <thead>\n",
       "    <tr style=\"text-align: right;\">\n",
       "      <th></th>\n",
       "      <th>id</th>\n",
       "      <th>name</th>\n",
       "      <th>employers_cnt</th>\n",
       "      <th>vacancies_cnt</th>\n",
       "    </tr>\n",
       "  </thead>\n",
       "  <tbody>\n",
       "    <tr>\n",
       "      <th>0</th>\n",
       "      <td>113</td>\n",
       "      <td>Россия</td>\n",
       "      <td>410</td>\n",
       "      <td>0</td>\n",
       "    </tr>\n",
       "  </tbody>\n",
       "</table>\n",
       "</div>"
      ],
      "text/plain": [
       "    id    name  employers_cnt  vacancies_cnt\n",
       "0  113  Россия            410              0"
      ]
     },
     "metadata": {},
     "output_type": "display_data"
    }
   ],
   "source": [
    "df_table = pd.read_sql_query(query_5_2_table, connection)\n",
    "display(df_table)\n",
    "\n",
    "df_top_region = pd.read_sql_query(query_5_2_top_region, connection)\n",
    "display(df_top_region)"
   ]
  },
  {
   "cell_type": "markdown",
   "id": "f2fe0acb-ab1a-4e15-9326-2560e22d73c1",
   "metadata": {
    "id": "f2fe0acb-ab1a-4e15-9326-2560e22d73c1"
   },
   "source": [
    "3. Для каждого работодателя посчитайте количество регионов, в которых он публикует свои вакансии. Отсортируйте результат по убыванию количества."
   ]
  },
  {
   "cell_type": "code",
   "execution_count": null,
   "id": "6271f8ad-bd2e-4196-ae4a-5b39c4c1010e",
   "metadata": {
    "id": "6271f8ad-bd2e-4196-ae4a-5b39c4c1010e"
   },
   "outputs": [],
   "source": [
    "query_5_3 = '''\n",
    "SELECT\n",
    "    v.employer_id,                     -- выбираем ID работодателя из таблицы вакансий\n",
    "    e.name,                           -- выбираем название работодателя из таблицы работодателей\n",
    "    COUNT(DISTINCT v.area_id) AS regions_count  -- считаем уникальное количество регионов с вакансиями работодателя\n",
    "FROM vacancies AS v\n",
    "JOIN employers AS e ON v.employer_id = e.id    -- соединяем таблицы по ID работодателя\n",
    "GROUP BY v.employer_id, e.name                  -- группируем по работодателю\n",
    "ORDER BY regions_count DESC;                     -- сортируем по убыванию количества регионов\n",
    "''' "
   ]
  },
  {
   "cell_type": "code",
   "execution_count": null,
   "id": "1EIvX3HasH4F",
   "metadata": {
    "id": "1EIvX3HasH4F"
   },
   "outputs": [
    {
     "name": "stderr",
     "output_type": "stream",
     "text": [
      "C:\\Users\\kkeri\\AppData\\Local\\Temp\\ipykernel_13152\\1682211407.py:1: UserWarning: pandas only supports SQLAlchemy connectable (engine/connection) or database string URI or sqlite3 DBAPI2 connection. Other DBAPI2 objects are not tested. Please consider using SQLAlchemy.\n",
      "  df = pd.read_sql_query(query_5_3, connection)\n"
     ]
    },
    {
     "data": {
      "text/html": [
       "<div>\n",
       "<style scoped>\n",
       "    .dataframe tbody tr th:only-of-type {\n",
       "        vertical-align: middle;\n",
       "    }\n",
       "\n",
       "    .dataframe tbody tr th {\n",
       "        vertical-align: top;\n",
       "    }\n",
       "\n",
       "    .dataframe thead th {\n",
       "        text-align: right;\n",
       "    }\n",
       "</style>\n",
       "<table border=\"1\" class=\"dataframe\">\n",
       "  <thead>\n",
       "    <tr style=\"text-align: right;\">\n",
       "      <th></th>\n",
       "      <th>employer_id</th>\n",
       "      <th>name</th>\n",
       "      <th>regions_count</th>\n",
       "    </tr>\n",
       "  </thead>\n",
       "  <tbody>\n",
       "    <tr>\n",
       "      <th>0</th>\n",
       "      <td>1740</td>\n",
       "      <td>Яндекс</td>\n",
       "      <td>181</td>\n",
       "    </tr>\n",
       "    <tr>\n",
       "      <th>1</th>\n",
       "      <td>2748</td>\n",
       "      <td>Ростелеком</td>\n",
       "      <td>152</td>\n",
       "    </tr>\n",
       "    <tr>\n",
       "      <th>2</th>\n",
       "      <td>5724811</td>\n",
       "      <td>Спецремонт</td>\n",
       "      <td>116</td>\n",
       "    </tr>\n",
       "    <tr>\n",
       "      <th>3</th>\n",
       "      <td>5130287</td>\n",
       "      <td>Поляков Денис Иванович</td>\n",
       "      <td>88</td>\n",
       "    </tr>\n",
       "    <tr>\n",
       "      <th>4</th>\n",
       "      <td>3682876</td>\n",
       "      <td>ООО ЕФИН</td>\n",
       "      <td>71</td>\n",
       "    </tr>\n",
       "    <tr>\n",
       "      <th>...</th>\n",
       "      <td>...</td>\n",
       "      <td>...</td>\n",
       "      <td>...</td>\n",
       "    </tr>\n",
       "    <tr>\n",
       "      <th>14901</th>\n",
       "      <td>810278</td>\n",
       "      <td>НПП Авиатрон</td>\n",
       "      <td>1</td>\n",
       "    </tr>\n",
       "    <tr>\n",
       "      <th>14902</th>\n",
       "      <td>810313</td>\n",
       "      <td>Центр дистанционных торгов</td>\n",
       "      <td>1</td>\n",
       "    </tr>\n",
       "    <tr>\n",
       "      <th>14903</th>\n",
       "      <td>810551</td>\n",
       "      <td>Городские Телекоммуникационные Системы</td>\n",
       "      <td>1</td>\n",
       "    </tr>\n",
       "    <tr>\n",
       "      <th>14904</th>\n",
       "      <td>810688</td>\n",
       "      <td>Введенский, Отель</td>\n",
       "      <td>1</td>\n",
       "    </tr>\n",
       "    <tr>\n",
       "      <th>14905</th>\n",
       "      <td>811902</td>\n",
       "      <td>Группа Компаний Автоимпорт</td>\n",
       "      <td>1</td>\n",
       "    </tr>\n",
       "  </tbody>\n",
       "</table>\n",
       "<p>14906 rows × 3 columns</p>\n",
       "</div>"
      ],
      "text/plain": [
       "       employer_id                                    name  regions_count\n",
       "0             1740                                  Яндекс            181\n",
       "1             2748                              Ростелеком            152\n",
       "2          5724811                              Спецремонт            116\n",
       "3          5130287                  Поляков Денис Иванович             88\n",
       "4          3682876                               ООО ЕФИН              71\n",
       "...            ...                                     ...            ...\n",
       "14901       810278                            НПП Авиатрон              1\n",
       "14902       810313              Центр дистанционных торгов              1\n",
       "14903       810551  Городские Телекоммуникационные Системы              1\n",
       "14904       810688                       Введенский, Отель              1\n",
       "14905       811902              Группа Компаний Автоимпорт              1\n",
       "\n",
       "[14906 rows x 3 columns]"
      ]
     },
     "metadata": {},
     "output_type": "display_data"
    }
   ],
   "source": [
    "df = pd.read_sql_query(query_5_3, connection)\n",
    "display(df)"
   ]
  },
  {
   "cell_type": "markdown",
   "id": "eab2206d-d95b-468b-8e5f-34381abf0ce7",
   "metadata": {
    "id": "eab2206d-d95b-468b-8e5f-34381abf0ce7"
   },
   "source": [
    "4. Напишите запрос для подсчёта количества работодателей, у которых не указана сфера деятельности. "
   ]
  },
  {
   "cell_type": "code",
   "execution_count": null,
   "id": "80defb23-bfb1-4a18-8be6-bf36aa7165d5",
   "metadata": {
    "id": "80defb23-bfb1-4a18-8be6-bf36aa7165d5"
   },
   "outputs": [],
   "source": [
    "query_5_4 = '''\n",
    "SELECT COUNT(*) AS employers_without_industry     -- считаем количество работодателей без указания сферы деятельности\n",
    "FROM employers AS e\n",
    "LEFT JOIN employers_industries AS ei              -- лево соединяем таблицу с индустриями работодателей\n",
    "    ON e.id = ei.employer_id\n",
    "WHERE ei.employer_id IS NULL;                       -- выбираем тех, у кого нет соответствующей записи в таблице сфер деятельности\n",
    "'''"
   ]
  },
  {
   "cell_type": "code",
   "execution_count": null,
   "id": "Dp_yCx6ysQSu",
   "metadata": {
    "id": "Dp_yCx6ysQSu"
   },
   "outputs": [
    {
     "name": "stderr",
     "output_type": "stream",
     "text": [
      "C:\\Users\\kkeri\\AppData\\Local\\Temp\\ipykernel_13152\\2060145397.py:1: UserWarning: pandas only supports SQLAlchemy connectable (engine/connection) or database string URI or sqlite3 DBAPI2 connection. Other DBAPI2 objects are not tested. Please consider using SQLAlchemy.\n",
      "  df = pd.read_sql_query(query_5_4, connection)\n"
     ]
    },
    {
     "data": {
      "text/html": [
       "<div>\n",
       "<style scoped>\n",
       "    .dataframe tbody tr th:only-of-type {\n",
       "        vertical-align: middle;\n",
       "    }\n",
       "\n",
       "    .dataframe tbody tr th {\n",
       "        vertical-align: top;\n",
       "    }\n",
       "\n",
       "    .dataframe thead th {\n",
       "        text-align: right;\n",
       "    }\n",
       "</style>\n",
       "<table border=\"1\" class=\"dataframe\">\n",
       "  <thead>\n",
       "    <tr style=\"text-align: right;\">\n",
       "      <th></th>\n",
       "      <th>employers_without_industry</th>\n",
       "    </tr>\n",
       "  </thead>\n",
       "  <tbody>\n",
       "    <tr>\n",
       "      <th>0</th>\n",
       "      <td>8419</td>\n",
       "    </tr>\n",
       "  </tbody>\n",
       "</table>\n",
       "</div>"
      ],
      "text/plain": [
       "   employers_without_industry\n",
       "0                        8419"
      ]
     },
     "metadata": {},
     "output_type": "display_data"
    }
   ],
   "source": [
    "df = pd.read_sql_query(query_5_4, connection)\n",
    "display(df) "
   ]
  },
  {
   "cell_type": "markdown",
   "id": "0112af31-f6b0-4e3b-82ab-71296e752e5e",
   "metadata": {
    "id": "0112af31-f6b0-4e3b-82ab-71296e752e5e"
   },
   "source": [
    "5. Напишите запрос, чтобы узнать название компании, находящейся на третьем месте в алфавитном списке (по названию) компаний, у которых указано четыре сферы деятельности. "
   ]
  },
  {
   "cell_type": "code",
   "execution_count": null,
   "id": "973b0cfc-a972-470a-8b4a-68744ef220c4",
   "metadata": {
    "id": "973b0cfc-a972-470a-8b4a-68744ef220c4"
   },
   "outputs": [],
   "source": [
    "offset_value = 2  # смещение для выбора третьей компании (начинается с 0)\n",
    "\n",
    "query_5_5 = f'''\n",
    "SELECT \n",
    "    e.id AS employer_id,                -- ID работодателя\n",
    "    e.name AS employer_name,            -- Название работодателя\n",
    "    COUNT(ei.industry_id) AS industry_count  -- Количество сфер деятельности работодателя\n",
    "FROM employers AS e\n",
    "LEFT JOIN employers_industries AS ei   -- соединение с таблицей сфер деятельности работодателей\n",
    "    ON e.id = ei.employer_id\n",
    "GROUP BY \n",
    "    e.id, \n",
    "    e.name\n",
    "HAVING COUNT(ei.industry_id) = 4      -- выбираем только работодателей с ровно 4 сферами деятельности\n",
    "ORDER BY e.name ASC                    -- сортируем по названию в алфавитном порядке\n",
    "LIMIT 1 OFFSET {offset_value};         -- выбираем одну строку с третьей позиции\n",
    "''' "
   ]
  },
  {
   "cell_type": "code",
   "execution_count": null,
   "id": "xsPtpp8EsaED",
   "metadata": {
    "id": "xsPtpp8EsaED"
   },
   "outputs": [
    {
     "name": "stderr",
     "output_type": "stream",
     "text": [
      "C:\\Users\\kkeri\\AppData\\Local\\Temp\\ipykernel_13152\\3367808829.py:1: UserWarning: pandas only supports SQLAlchemy connectable (engine/connection) or database string URI or sqlite3 DBAPI2 connection. Other DBAPI2 objects are not tested. Please consider using SQLAlchemy.\n",
      "  df = pd.read_sql_query(query_5_5, connection)\n"
     ]
    },
    {
     "data": {
      "text/html": [
       "<div>\n",
       "<style scoped>\n",
       "    .dataframe tbody tr th:only-of-type {\n",
       "        vertical-align: middle;\n",
       "    }\n",
       "\n",
       "    .dataframe tbody tr th {\n",
       "        vertical-align: top;\n",
       "    }\n",
       "\n",
       "    .dataframe thead th {\n",
       "        text-align: right;\n",
       "    }\n",
       "</style>\n",
       "<table border=\"1\" class=\"dataframe\">\n",
       "  <thead>\n",
       "    <tr style=\"text-align: right;\">\n",
       "      <th></th>\n",
       "      <th>employer_id</th>\n",
       "      <th>employer_name</th>\n",
       "      <th>industry_count</th>\n",
       "    </tr>\n",
       "  </thead>\n",
       "  <tbody>\n",
       "    <tr>\n",
       "      <th>0</th>\n",
       "      <td>64174</td>\n",
       "      <td>2ГИС</td>\n",
       "      <td>4</td>\n",
       "    </tr>\n",
       "  </tbody>\n",
       "</table>\n",
       "</div>"
      ],
      "text/plain": [
       "   employer_id employer_name  industry_count\n",
       "0        64174          2ГИС               4"
      ]
     },
     "metadata": {},
     "output_type": "display_data"
    }
   ],
   "source": [
    "df = pd.read_sql_query(query_5_5, connection)\n",
    "display(df) "
   ]
  },
  {
   "cell_type": "markdown",
   "id": "3bfcfdaf-755d-4d2b-8ed8-326201dc07ab",
   "metadata": {
    "id": "3bfcfdaf-755d-4d2b-8ed8-326201dc07ab"
   },
   "source": [
    "6. С помощью запроса выясните, у какого количества работодателей в качестве сферы деятельности указана Разработка программного обеспечения."
   ]
  },
  {
   "cell_type": "code",
   "execution_count": null,
   "id": "ad3f270f-2991-47eb-929b-e8f88a55b0d1",
   "metadata": {
    "id": "ad3f270f-2991-47eb-929b-e8f88a55b0d1"
   },
   "outputs": [],
   "source": [
    "query_employers_list = '''\n",
    "SELECT \n",
    "    e.id AS employer_id,                -- ID работодателя\n",
    "    e.name AS employer_name,            -- Название работодателя\n",
    "    COUNT(ei.industry_id) AS industry_count  -- Количество сфер деятельности работодателя\n",
    "FROM employers AS e\n",
    "JOIN employers_industries AS ei ON e.id = ei.employer_id  -- соединяем с таблицей сфер деятельности работодателей\n",
    "JOIN industries AS i ON ei.industry_id = i.id             -- соединяем с таблицей отраслей\n",
    "WHERE i.name = 'Разработка программного обеспечения'      -- фильтр по нужной сфере деятельности\n",
    "GROUP BY e.id, e.name\n",
    "ORDER BY e.name ASC;                                        -- сортировка по названию работодателя\n",
    "'''\n",
    "\n",
    "query_employers_count = '''\n",
    "SELECT COUNT(DISTINCT e.id) AS employers_count             -- считаем уникальное число работодателей в указанной сфере\n",
    "FROM employers AS e\n",
    "JOIN employers_industries AS ei ON e.id = ei.employer_id\n",
    "JOIN industries AS i ON ei.industry_id = i.id\n",
    "WHERE i.name = 'Разработка программного обеспечения';\n",
    "'''"
   ]
  },
  {
   "cell_type": "code",
   "execution_count": null,
   "id": "H72qxWM0shPR",
   "metadata": {
    "id": "H72qxWM0shPR"
   },
   "outputs": [
    {
     "name": "stderr",
     "output_type": "stream",
     "text": [
      "C:\\Users\\kkeri\\AppData\\Local\\Temp\\ipykernel_13152\\2987032756.py:1: UserWarning: pandas only supports SQLAlchemy connectable (engine/connection) or database string URI or sqlite3 DBAPI2 connection. Other DBAPI2 objects are not tested. Please consider using SQLAlchemy.\n",
      "  df_list = pd.read_sql_query(query_employers_list, connection)\n",
      "C:\\Users\\kkeri\\AppData\\Local\\Temp\\ipykernel_13152\\2987032756.py:2: UserWarning: pandas only supports SQLAlchemy connectable (engine/connection) or database string URI or sqlite3 DBAPI2 connection. Other DBAPI2 objects are not tested. Please consider using SQLAlchemy.\n",
      "  df_count = pd.read_sql_query(query_employers_count, connection)\n"
     ]
    },
    {
     "data": {
      "text/html": [
       "<div>\n",
       "<style scoped>\n",
       "    .dataframe tbody tr th:only-of-type {\n",
       "        vertical-align: middle;\n",
       "    }\n",
       "\n",
       "    .dataframe tbody tr th {\n",
       "        vertical-align: top;\n",
       "    }\n",
       "\n",
       "    .dataframe thead th {\n",
       "        text-align: right;\n",
       "    }\n",
       "</style>\n",
       "<table border=\"1\" class=\"dataframe\">\n",
       "  <thead>\n",
       "    <tr style=\"text-align: right;\">\n",
       "      <th></th>\n",
       "      <th>employer_id</th>\n",
       "      <th>employer_name</th>\n",
       "      <th>industry_count</th>\n",
       "    </tr>\n",
       "  </thead>\n",
       "  <tbody>\n",
       "    <tr>\n",
       "      <th>0</th>\n",
       "      <td>2813719</td>\n",
       "      <td>10Tech</td>\n",
       "      <td>1</td>\n",
       "    </tr>\n",
       "    <tr>\n",
       "      <th>1</th>\n",
       "      <td>4583864</td>\n",
       "      <td>1C-КСУ, филиал в г. Барнауле</td>\n",
       "      <td>1</td>\n",
       "    </tr>\n",
       "    <tr>\n",
       "      <th>2</th>\n",
       "      <td>6067447</td>\n",
       "      <td>1C-Медицина-Регион</td>\n",
       "      <td>1</td>\n",
       "    </tr>\n",
       "    <tr>\n",
       "      <th>3</th>\n",
       "      <td>172</td>\n",
       "      <td>1C-Рарус</td>\n",
       "      <td>1</td>\n",
       "    </tr>\n",
       "    <tr>\n",
       "      <th>4</th>\n",
       "      <td>1503330</td>\n",
       "      <td>1pt / Уан Поинт</td>\n",
       "      <td>1</td>\n",
       "    </tr>\n",
       "    <tr>\n",
       "      <th>...</th>\n",
       "      <td>...</td>\n",
       "      <td>...</td>\n",
       "      <td>...</td>\n",
       "    </tr>\n",
       "    <tr>\n",
       "      <th>3548</th>\n",
       "      <td>3654939</td>\n",
       "      <td>Языковой центр Биг Бен</td>\n",
       "      <td>1</td>\n",
       "    </tr>\n",
       "    <tr>\n",
       "      <th>3549</th>\n",
       "      <td>1951995</td>\n",
       "      <td>Ямальский расчетно-информационный центр</td>\n",
       "      <td>1</td>\n",
       "    </tr>\n",
       "    <tr>\n",
       "      <th>3550</th>\n",
       "      <td>1620049</td>\n",
       "      <td>ЯрНео</td>\n",
       "      <td>1</td>\n",
       "    </tr>\n",
       "    <tr>\n",
       "      <th>3551</th>\n",
       "      <td>5120786</td>\n",
       "      <td>Яроцкий Е. В./ MoonX</td>\n",
       "      <td>1</td>\n",
       "    </tr>\n",
       "    <tr>\n",
       "      <th>3552</th>\n",
       "      <td>728261</td>\n",
       "      <td>ЯСП</td>\n",
       "      <td>1</td>\n",
       "    </tr>\n",
       "  </tbody>\n",
       "</table>\n",
       "<p>3553 rows × 3 columns</p>\n",
       "</div>"
      ],
      "text/plain": [
       "      employer_id                            employer_name  industry_count\n",
       "0         2813719                                   10Tech               1\n",
       "1         4583864             1C-КСУ, филиал в г. Барнауле               1\n",
       "2         6067447                       1C-Медицина-Регион               1\n",
       "3             172                                 1C-Рарус               1\n",
       "4         1503330                          1pt / Уан Поинт               1\n",
       "...           ...                                      ...             ...\n",
       "3548      3654939                   Языковой центр Биг Бен               1\n",
       "3549      1951995  Ямальский расчетно-информационный центр               1\n",
       "3550      1620049                                    ЯрНео               1\n",
       "3551      5120786                     Яроцкий Е. В./ MoonX               1\n",
       "3552       728261                                      ЯСП               1\n",
       "\n",
       "[3553 rows x 3 columns]"
      ]
     },
     "metadata": {},
     "output_type": "display_data"
    },
    {
     "name": "stdout",
     "output_type": "stream",
     "text": [
      "Количество работодателей, у которых указана сфера 'Разработка программного обеспечения': 3553\n"
     ]
    }
   ],
   "source": [
    "df_list = pd.read_sql_query(query_employers_list, connection)\n",
    "df_count = pd.read_sql_query(query_employers_count, connection)\n",
    "display(df_list)\n",
    "print(f\"Количество работодателей, у которых указана сфера 'Разработка программного обеспечения': {df_count.iloc[0, 0]}\")"
   ]
  },
  {
   "cell_type": "markdown",
   "id": "7b02bb86-0546-40fb-94a4-242f050a5c57",
   "metadata": {
    "id": "7b02bb86-0546-40fb-94a4-242f050a5c57"
   },
   "source": [
    "7. Для компании «Яндекс» выведите список регионов-миллионников, в которых представлены вакансии компании, вместе с количеством вакансий в этих регионах. Также добавьте строку Total с общим количеством вакансий компании. Результат отсортируйте по возрастанию количества.\n",
    "\n",
    "Список городов-милионников надо взять [отсюда](https://ru.wikipedia.org/wiki/%D0%93%D0%BE%D1%80%D0%BE%D0%B4%D0%B0-%D0%BC%D0%B8%D0%BB%D0%BB%D0%B8%D0%BE%D0%BD%D0%B5%D1%80%D1%8B_%D0%A0%D0%BE%D1%81%D1%81%D0%B8%D0%B8). \n",
    "\n",
    "Если возникнут трудности с этим задание посмотрите материалы модуля  PYTHON-17. Как получать данные из веб-источников и API. "
   ]
  },
  {
   "cell_type": "code",
   "execution_count": null,
   "id": "ZdfrL6gIs1Pn",
   "metadata": {
    "id": "ZdfrL6gIs1Pn"
   },
   "outputs": [
    {
     "name": "stderr",
     "output_type": "stream",
     "text": [
      "C:\\Users\\kkeri\\AppData\\Local\\Temp\\ipykernel_13152\\275102852.py:9: FutureWarning: Passing literal html to 'read_html' is deprecated and will be removed in a future version. To read from a literal string, wrap it in a 'StringIO' object.\n",
      "  tables = pd.read_html(response.text)\n"
     ]
    }
   ],
   "source": [
    "import requests\n",
    "\n",
    "# Получаем список городов-миллионников с Википедии\n",
    "url = 'https://ru.wikipedia.org/wiki/Города-миллионеры_России'\n",
    "response = requests.get(url)\n",
    "response.encoding = 'utf-8'\n",
    "\n",
    "tables = pd.read_html(response.text)\n",
    "df_cities = tables[0]\n",
    "\n",
    "# Берём названия городов из второго столбца\n",
    "million_cities = df_cities.iloc[:, 1].tolist()\n",
    "million_cities = [city.strip() for city in million_cities if isinstance(city, str)]\n",
    "\n",
    "# Превращаем список в строку для SQL IN (...)\n",
    "million_cities_sql = \", \".join(f\"'{city}'\" for city in million_cities) "
   ]
  },
  {
   "cell_type": "code",
   "execution_count": null,
   "id": "5a0e32a4-e68a-4365-8a39-2fe24c542c36",
   "metadata": {
    "id": "5a0e32a4-e68a-4365-8a39-2fe24c542c36"
   },
   "outputs": [],
   "source": [
    "query_5_7 = f\"\"\"\n",
    "SELECT \n",
    "    a.name AS region,                                  -- Название региона (города-миллионника)\n",
    "    COUNT(DISTINCT v.id) AS vacancies_cnt             -- Количество уникальных вакансий Яндекса в регионе\n",
    "FROM areas AS a\n",
    "JOIN vacancies AS v ON v.area_id = a.id              -- Соединяем с вакансиями по региону\n",
    "JOIN employers AS e ON v.employer_id = e.id          -- Соединяем с работодателями по id\n",
    "WHERE \n",
    "    e.name = 'Яндекс'                                -- Фильтр по компании \"Яндекс\"\n",
    "    AND a.name IN ({million_cities_sql})             -- Только регионы из списка городов-миллионников\n",
    "GROUP BY a.name\n",
    "\n",
    "UNION ALL                                             -- Добавляем итоговую строку\n",
    "\n",
    "SELECT\n",
    "    'Total' AS region,                                -- Итоговая строка с названием \"Total\"\n",
    "    COUNT(DISTINCT v.id) AS vacancies_cnt             -- Общее количество вакансий Яндекса в этих городах\n",
    "FROM areas AS a\n",
    "JOIN vacancies AS v ON v.area_id = a.id\n",
    "JOIN employers AS e ON v.employer_id = e.id\n",
    "WHERE \n",
    "    e.name = 'Яндекс'\n",
    "    AND a.name IN ({million_cities_sql})\n",
    "\n",
    "ORDER BY vacancies_cnt ASC;                            -- Сортировка по количеству вакансий по возрастанию\n",
    "\"\"\""
   ]
  },
  {
   "cell_type": "code",
   "execution_count": null,
   "id": "ttPhiO1rsvPq",
   "metadata": {
    "id": "ttPhiO1rsvPq"
   },
   "outputs": [
    {
     "name": "stderr",
     "output_type": "stream",
     "text": [
      "C:\\Users\\kkeri\\AppData\\Local\\Temp\\ipykernel_13152\\3290006367.py:1: UserWarning: pandas only supports SQLAlchemy connectable (engine/connection) or database string URI or sqlite3 DBAPI2 connection. Other DBAPI2 objects are not tested. Please consider using SQLAlchemy.\n",
      "  df = pd.read_sql_query(query_5_7, connection)\n"
     ]
    },
    {
     "data": {
      "text/html": [
       "<div>\n",
       "<style scoped>\n",
       "    .dataframe tbody tr th:only-of-type {\n",
       "        vertical-align: middle;\n",
       "    }\n",
       "\n",
       "    .dataframe tbody tr th {\n",
       "        vertical-align: top;\n",
       "    }\n",
       "\n",
       "    .dataframe thead th {\n",
       "        text-align: right;\n",
       "    }\n",
       "</style>\n",
       "<table border=\"1\" class=\"dataframe\">\n",
       "  <thead>\n",
       "    <tr style=\"text-align: right;\">\n",
       "      <th></th>\n",
       "      <th>region</th>\n",
       "      <th>vacancies_cnt</th>\n",
       "    </tr>\n",
       "  </thead>\n",
       "  <tbody>\n",
       "    <tr>\n",
       "      <th>0</th>\n",
       "      <td>Омск</td>\n",
       "      <td>21</td>\n",
       "    </tr>\n",
       "    <tr>\n",
       "      <th>1</th>\n",
       "      <td>Челябинск</td>\n",
       "      <td>22</td>\n",
       "    </tr>\n",
       "    <tr>\n",
       "      <th>2</th>\n",
       "      <td>Красноярск</td>\n",
       "      <td>23</td>\n",
       "    </tr>\n",
       "    <tr>\n",
       "      <th>3</th>\n",
       "      <td>Волгоград</td>\n",
       "      <td>24</td>\n",
       "    </tr>\n",
       "    <tr>\n",
       "      <th>4</th>\n",
       "      <td>Пермь</td>\n",
       "      <td>25</td>\n",
       "    </tr>\n",
       "    <tr>\n",
       "      <th>5</th>\n",
       "      <td>Казань</td>\n",
       "      <td>25</td>\n",
       "    </tr>\n",
       "    <tr>\n",
       "      <th>6</th>\n",
       "      <td>Ростов-на-Дону</td>\n",
       "      <td>25</td>\n",
       "    </tr>\n",
       "    <tr>\n",
       "      <th>7</th>\n",
       "      <td>Уфа</td>\n",
       "      <td>26</td>\n",
       "    </tr>\n",
       "    <tr>\n",
       "      <th>8</th>\n",
       "      <td>Самара</td>\n",
       "      <td>26</td>\n",
       "    </tr>\n",
       "    <tr>\n",
       "      <th>9</th>\n",
       "      <td>Краснодар</td>\n",
       "      <td>30</td>\n",
       "    </tr>\n",
       "    <tr>\n",
       "      <th>10</th>\n",
       "      <td>Воронеж</td>\n",
       "      <td>32</td>\n",
       "    </tr>\n",
       "    <tr>\n",
       "      <th>11</th>\n",
       "      <td>Новосибирск</td>\n",
       "      <td>35</td>\n",
       "    </tr>\n",
       "    <tr>\n",
       "      <th>12</th>\n",
       "      <td>Нижний Новгород</td>\n",
       "      <td>36</td>\n",
       "    </tr>\n",
       "    <tr>\n",
       "      <th>13</th>\n",
       "      <td>Екатеринбург</td>\n",
       "      <td>39</td>\n",
       "    </tr>\n",
       "    <tr>\n",
       "      <th>14</th>\n",
       "      <td>Санкт-Петербург</td>\n",
       "      <td>42</td>\n",
       "    </tr>\n",
       "    <tr>\n",
       "      <th>15</th>\n",
       "      <td>Москва</td>\n",
       "      <td>54</td>\n",
       "    </tr>\n",
       "    <tr>\n",
       "      <th>16</th>\n",
       "      <td>Total</td>\n",
       "      <td>485</td>\n",
       "    </tr>\n",
       "  </tbody>\n",
       "</table>\n",
       "</div>"
      ],
      "text/plain": [
       "             region  vacancies_cnt\n",
       "0              Омск             21\n",
       "1         Челябинск             22\n",
       "2        Красноярск             23\n",
       "3         Волгоград             24\n",
       "4             Пермь             25\n",
       "5            Казань             25\n",
       "6    Ростов-на-Дону             25\n",
       "7               Уфа             26\n",
       "8            Самара             26\n",
       "9         Краснодар             30\n",
       "10          Воронеж             32\n",
       "11      Новосибирск             35\n",
       "12  Нижний Новгород             36\n",
       "13     Екатеринбург             39\n",
       "14  Санкт-Петербург             42\n",
       "15           Москва             54\n",
       "16            Total            485"
      ]
     },
     "metadata": {},
     "output_type": "display_data"
    }
   ],
   "source": [
    "df = pd.read_sql_query(query_5_7, connection)\n",
    "display(df)"
   ]
  },
  {
   "cell_type": "markdown",
   "id": "04966e40-3bc3-4dc8-9ba2-e80580ce3abc",
   "metadata": {
    "id": "04966e40-3bc3-4dc8-9ba2-e80580ce3abc"
   },
   "source": [
    "***"
   ]
  },
  {
   "cell_type": "markdown",
   "id": "f1d3be76",
   "metadata": {},
   "source": [
    "# **Выводы по анализу работодателей**\n",
    "\n",
    "## 1. **Топ работодателей по количеству вакансий**\n",
    "\n",
    "| Место | Работодатель   | Вакансии |\n",
    "|-------|----------------|----------|\n",
    "| 1     | Яндекс         | 1 933    |\n",
    "| 5     | Газпром нефть  | 331      |\n",
    "\n",
    "**Выводы:**\n",
    "- Яндекс заметно опережает остальных работодателей по количеству вакансий.\n",
    "- Разрыв между 1-м и 5-м местом более чем в 5 раз.\n",
    "\n",
    "---\n",
    "\n",
    "## 2. **Распределение работодателей и вакансий по регионам**\n",
    "\n",
    "| ID   | Регион                | Работодателей | Вакансий |\n",
    "|------|-----------------------|---------------|----------|\n",
    "| 113  | Россия                | 410           | 0        |\n",
    "| 40   | Казахстан             | 207           | 0        |\n",
    "| 2019 | Московская область    | 75            | 0        |\n",
    "| 1438 | Краснодарский край    | 19            | 0        |\n",
    "| 1530 | Ростовская область    | 18            | 0        |\n",
    "\n",
    "**Выводы:**\n",
    "- Есть регионы с большим количеством работодателей, но без вакансий (например, Россия — 410 работодателей, 0 вакансий).\n",
    "- Наибольшее число работодателей среди регионов без вакансий — в России (113, как код региона в БД).\n",
    "\n",
    "---\n",
    "\n",
    "## 3. **Работодатели по числу охваченных регионов**\n",
    "\n",
    "| ID      | Работодатель                      | Регионов |\n",
    "|---------|-----------------------------------|----------|\n",
    "| 1740    | Яндекс                            | 181      |\n",
    "| 2748    | Ростелеком                        | 152      |\n",
    "| 5724811 | Спецремонт                         | 116      |\n",
    "| 5130287 | Поляков Денис Иванович            | 88       |\n",
    "| 3682876 | ООО ЕФИН                          | 71       |\n",
    "\n",
    "**Выводы:**\n",
    "- Яндекс публикует вакансии в наибольшем количестве регионов (181).\n",
    "- У топ-5 работодателей охват превышает 70 регионов.\n",
    "\n",
    "---\n",
    "\n",
    "## 4. **Работодатели без указания сферы деятельности**\n",
    "\n",
    "- Количество: **8 419**\n",
    "\n",
    "**Выводы:**\n",
    "- Существенная доля работодателей не заполняет сферу деятельности, что затрудняет сегментацию рынка.\n",
    "\n",
    "---\n",
    "\n",
    "## 5. **Компании с четырьмя сферами деятельности**\n",
    "\n",
    "| ID    | Компания | Сфер деятельности |\n",
    "|-------|----------|-------------------|\n",
    "| 64174 | 2ГИС     | 4                 |\n",
    "\n",
    "**Выводы:**\n",
    "- На третьем месте в алфавитном списке с 4 сферами деятельности — 2ГИС.\n",
    "\n",
    "---\n",
    "\n",
    "## 6. **Разработка ПО как сфера деятельности**\n",
    "\n",
    "- Компаний с этой сферой: **3 553**\n",
    "\n",
    "**Выводы:**\n",
    "- Разработка программного обеспечения — одна из наиболее часто встречающихся сфер.\n",
    "\n",
    "---\n",
    "\n",
    "## 7. **Вакансии Яндекса в городах-миллионниках**\n",
    "\n",
    "| Город           | Вакансий |\n",
    "|-----------------|----------|\n",
    "| Омск            | 21       |\n",
    "| Челябинск       | 22       |\n",
    "| Красноярск      | 23       |\n",
    "| Волгоград       | 24       |\n",
    "| Пермь           | 25       |\n",
    "| Казань          | 25       |\n",
    "| Ростов-на-Дону  | 25       |\n",
    "| Уфа             | 26       |\n",
    "| Самара          | 26       |\n",
    "| Краснодар       | 30       |\n",
    "| Воронеж         | 32       |\n",
    "| Новосибирск     | 35       |\n",
    "| Нижний Новгород | 36       |\n",
    "| Екатеринбург    | 39       |\n",
    "| Санкт-Петербург | 42       |\n",
    "| Москва          | 54       |\n",
    "| **Total**       | **485**  |\n",
    "\n",
    "**Выводы:**\n",
    "- Москва и Санкт-Петербург занимают лидирующие позиции, но заметно, что вакансии распределены и по другим крупным городам.\n",
    "- Суммарно в городах-миллионниках размещено 485 вакансий Яндекса.\n",
    "\n",
    "---"
   ]
  },
  {
   "cell_type": "markdown",
   "id": "b1ef156a-efcb-49ce-bb23-90763e7f35b2",
   "metadata": {
    "id": "b1ef156a-efcb-49ce-bb23-90763e7f35b2",
    "tags": []
   },
   "source": [
    "# Юнит 6. Предметный анализ"
   ]
  },
  {
   "cell_type": "markdown",
   "id": "b9cd50a0-992d-4988-8463-2b2b1c4629b4",
   "metadata": {
    "id": "b9cd50a0-992d-4988-8463-2b2b1c4629b4"
   },
   "source": [
    "1. Сколько вакансий имеет отношение к данным?\n",
    "\n",
    "Считаем, что вакансия имеет отношение к данным, если в её названии содержатся слова 'data' или 'данн'.\n",
    "\n",
    "*Подсказка: Обратите внимание, что названия вакансий могут быть написаны в любом регистре.* "
   ]
  },
  {
   "cell_type": "code",
   "execution_count": null,
   "id": "54ab0e50-c0f1-47cc-a54b-bc5c8bc363f9",
   "metadata": {
    "id": "54ab0e50-c0f1-47cc-a54b-bc5c8bc363f9"
   },
   "outputs": [],
   "source": [
    "query_6_1 = '''\n",
    "SELECT COUNT(*) AS data_related_vacancies        -- Подсчёт количества вакансий, связанных с данными\n",
    "FROM vacancies\n",
    "WHERE \n",
    "   name ILIKE '%data%'                           -- Название вакансии содержит 'data' (без учёта регистра)\n",
    "   OR \n",
    "   name ILIKE '%данн%';                          -- Название вакансии содержит 'данн' (часть слова \"данные\", без учёта регистра)\n",
    "'''"
   ]
  },
  {
   "cell_type": "code",
   "execution_count": null,
   "id": "9F1meAqsuUjd",
   "metadata": {
    "id": "9F1meAqsuUjd"
   },
   "outputs": [
    {
     "name": "stderr",
     "output_type": "stream",
     "text": [
      "C:\\Users\\kkeri\\AppData\\Local\\Temp\\ipykernel_13152\\1423936654.py:1: UserWarning: pandas only supports SQLAlchemy connectable (engine/connection) or database string URI or sqlite3 DBAPI2 connection. Other DBAPI2 objects are not tested. Please consider using SQLAlchemy.\n",
      "  df = pd.read_sql_query(query_6_1, connection)\n"
     ]
    },
    {
     "name": "stdout",
     "output_type": "stream",
     "text": [
      "Кол-во вакансий, связанных с данными: 1771\n"
     ]
    }
   ],
   "source": [
    "df = pd.read_sql_query(query_6_1, connection)\n",
    "print(f\"Кол-во вакансий, связанных с данными: {df.iloc[0, 0]}\") "
   ]
  },
  {
   "cell_type": "markdown",
   "id": "4dea20cb-a36b-474a-a0b9-e08e8e3857a5",
   "metadata": {
    "id": "4dea20cb-a36b-474a-a0b9-e08e8e3857a5"
   },
   "source": [
    "2. Сколько есть подходящих вакансий для начинающего дата-сайентиста? \n",
    "Будем считать вакансиями для дата-сайентистов такие, в названии которых есть хотя бы одно из следующих сочетаний:\n",
    "* 'data scientist'\n",
    "* 'data science'\n",
    "* 'исследователь данных'\n",
    "* 'ML' (здесь не нужно брать вакансии по HTML)\n",
    "* 'machine learning'\n",
    "* 'машинн%обучен%'\n",
    "\n",
    "** В следующих заданиях мы продолжим работать с вакансиями по этому условию.*\n",
    "\n",
    "Считаем вакансиями для специалистов уровня Junior следующие:\n",
    "* в названии есть слово 'junior' *или*\n",
    "* требуемый опыт — Нет опыта *или*\n",
    "* тип трудоустройства — Стажировка.\n",
    " "
   ]
  },
  {
   "cell_type": "code",
   "execution_count": null,
   "id": "9c61b3c0-bb66-46c9-ae1e-81d3f5752b4a",
   "metadata": {
    "id": "9c61b3c0-bb66-46c9-ae1e-81d3f5752b4a"
   },
   "outputs": [],
   "source": [
    "query_6_2 = '''\n",
    "SELECT COUNT(DISTINCT id) AS junior_data_scientist_vacancies  -- Подсчёт уникальных вакансий для начинающих дата-сайентистов\n",
    "FROM vacancies\n",
    "WHERE \n",
    "    (\n",
    "        name ILIKE '%data scientist%'                           -- В названии есть 'data scientist' (без учёта регистра)\n",
    "        OR name ILIKE '%data science%'                          -- Или 'data science'\n",
    "        OR name ILIKE '%исследователь данных%'                  -- Или 'исследователь данных'\n",
    "        OR (name ILIKE '%ML%' AND name NOT ILIKE '%HTML%')      -- Или 'ML', но исключая вакансии с 'HTML'\n",
    "        OR name ILIKE '%machine learning%'                      -- Или 'machine learning'\n",
    "        OR name ILIKE '%машинн%обучен%'                         -- Или слова, начинающиеся с 'машинн' и 'обучен' (учитывая возможные окончания)\n",
    "    )\n",
    "    AND\n",
    "    (\n",
    "        name ILIKE '%junior%'                                   -- И в названии есть 'junior'\n",
    "        OR experience ILIKE '%Нет опыта%'                       -- Или опыт \"Нет опыта\"\n",
    "        OR employment ILIKE '%Стажировка%'                      -- Или тип трудоустройства \"Стажировка\"\n",
    "    );\n",
    "'''"
   ]
  },
  {
   "cell_type": "code",
   "execution_count": null,
   "id": "ZNM-LLYuu1dj",
   "metadata": {
    "id": "ZNM-LLYuu1dj"
   },
   "outputs": [
    {
     "name": "stderr",
     "output_type": "stream",
     "text": [
      "C:\\Users\\kkeri\\AppData\\Local\\Temp\\ipykernel_13152\\3845981688.py:1: UserWarning: pandas only supports SQLAlchemy connectable (engine/connection) or database string URI or sqlite3 DBAPI2 connection. Other DBAPI2 objects are not tested. Please consider using SQLAlchemy.\n",
      "  df = pd.read_sql_query(query_6_2, connection)\n"
     ]
    },
    {
     "name": "stdout",
     "output_type": "stream",
     "text": [
      "Кол-во вакансий для начинающего дата-сайентиста: 51\n"
     ]
    }
   ],
   "source": [
    "df = pd.read_sql_query(query_6_2, connection)\n",
    "print(f\"Кол-во вакансий для начинающего дата-сайентиста: {df.iloc[0, 0]}\") "
   ]
  },
  {
   "cell_type": "markdown",
   "id": "eedceb80-c5ca-480e-b27a-278dfb8b4438",
   "metadata": {
    "id": "eedceb80-c5ca-480e-b27a-278dfb8b4438"
   },
   "source": [
    "3. Сколько есть вакансий для DS, в которых в качестве ключевого навыка указан SQL или postgres?\n",
    "\n",
    "** Критерии для отнесения вакансии к DS указаны в предыдущем задании.*"
   ]
  },
  {
   "cell_type": "code",
   "execution_count": null,
   "id": "69621713-0cc5-4f1b-a1d7-bb144fa6148c",
   "metadata": {
    "id": "69621713-0cc5-4f1b-a1d7-bb144fa6148c"
   },
   "outputs": [],
   "source": [
    "query_6_3 = '''\n",
    "SELECT COUNT(DISTINCT id) AS ds_vacancies_with_sql_postgres  -- Подсчёт уникальных вакансий DS с навыками SQL или Postgres\n",
    "FROM vacancies\n",
    "WHERE \n",
    "    (\n",
    "        name ILIKE '%data scientist%'                           -- Название содержит 'data scientist'\n",
    "        OR name ILIKE '%data science%'                          -- Или 'data science'\n",
    "        OR name ILIKE '%исследователь данных%'                  -- Или 'исследователь данных'\n",
    "        OR (name ILIKE '%ML%' AND name NOT ILIKE '%HTML%')      -- Или 'ML', исключая 'HTML'\n",
    "        OR name ILIKE '%machine learning%'                      -- Или 'machine learning'\n",
    "        OR name ILIKE '%машинн%обучен%'                         -- Или слова с 'машинн' и 'обучен'\n",
    "    )\n",
    "    AND\n",
    "    (\n",
    "        key_skills ILIKE '%SQL%'                                -- Навыки содержат 'SQL'\n",
    "        OR key_skills ILIKE '%PostgreSQL%'                      -- Или 'PostgreSQL'\n",
    "        OR key_skills ILIKE '%postgres%'                        -- Или 'postgres' (регистр не важен)\n",
    "    );\n",
    "'''"
   ]
  },
  {
   "cell_type": "code",
   "execution_count": null,
   "id": "alA8WEAAvGdf",
   "metadata": {
    "id": "alA8WEAAvGdf"
   },
   "outputs": [
    {
     "name": "stderr",
     "output_type": "stream",
     "text": [
      "C:\\Users\\kkeri\\AppData\\Local\\Temp\\ipykernel_13152\\3807600549.py:1: UserWarning: pandas only supports SQLAlchemy connectable (engine/connection) or database string URI or sqlite3 DBAPI2 connection. Other DBAPI2 objects are not tested. Please consider using SQLAlchemy.\n",
      "  df = pd.read_sql_query(query_6_3, connection)\n"
     ]
    },
    {
     "name": "stdout",
     "output_type": "stream",
     "text": [
      "Кол-во вакансий для DS, в которых в качестве ключевого навыка указан SQL или postgres: 229\n"
     ]
    }
   ],
   "source": [
    "df = pd.read_sql_query(query_6_3, connection)\n",
    "print(f\"Кол-во вакансий для DS, в которых в качестве ключевого навыка указан SQL или postgres: {df.iloc[0, 0]}\") "
   ]
  },
  {
   "cell_type": "markdown",
   "id": "1be1e9c6-37cf-4a5f-bfeb-04cab799dc80",
   "metadata": {
    "id": "1be1e9c6-37cf-4a5f-bfeb-04cab799dc80"
   },
   "source": [
    "4. Проверьте, насколько популярен Python в требованиях работодателей к DS.Для этого вычислите количество вакансий, в которых в качестве ключевого навыка указан Python.\n",
    "\n",
    "** Это можно сделать помощью запроса, аналогичного предыдущему.*"
   ]
  },
  {
   "cell_type": "code",
   "execution_count": null,
   "id": "0036a355-9ccf-4564-8b01-73d8194297e7",
   "metadata": {
    "id": "0036a355-9ccf-4564-8b01-73d8194297e7"
   },
   "outputs": [],
   "source": [
    "query_6_4 = '''\n",
    "SELECT COUNT(DISTINCT id) AS ds_vacancies_with_python   -- Подсчёт уникальных вакансий DS, где в ключевых навыках указан Python\n",
    "FROM vacancies\n",
    "WHERE \n",
    "    (\n",
    "        name ILIKE '%data scientist%'                        -- Название содержит 'data scientist'\n",
    "        OR name ILIKE '%data science%'                       -- Или 'data science'\n",
    "        OR name ILIKE '%исследователь данных%'               -- Или 'исследователь данных'\n",
    "        OR (name ILIKE '%ML%' AND name NOT ILIKE '%HTML%')   -- Или 'ML', исключая 'HTML'\n",
    "        OR name ILIKE '%machine learning%'                   -- Или 'machine learning'\n",
    "        OR name ILIKE '%машинн%обучен%'                      -- Или слова с 'машинн' и 'обучен'\n",
    "    )\n",
    "    AND\n",
    "    key_skills ILIKE '%Python%';                            -- Навыки содержат 'Python'\n",
    "'''"
   ]
  },
  {
   "cell_type": "code",
   "execution_count": null,
   "id": "1i-5WyucvQ6v",
   "metadata": {
    "id": "1i-5WyucvQ6v"
   },
   "outputs": [
    {
     "name": "stderr",
     "output_type": "stream",
     "text": [
      "C:\\Users\\kkeri\\AppData\\Local\\Temp\\ipykernel_13152\\3852105881.py:1: UserWarning: pandas only supports SQLAlchemy connectable (engine/connection) or database string URI or sqlite3 DBAPI2 connection. Other DBAPI2 objects are not tested. Please consider using SQLAlchemy.\n",
      "  df = pd.read_sql_query(query_6_4, connection)\n"
     ]
    },
    {
     "name": "stdout",
     "output_type": "stream",
     "text": [
      "Кол-во вакансий для DS, в которых в качестве ключевого навыка указан Python: 357\n"
     ]
    }
   ],
   "source": [
    "df = pd.read_sql_query(query_6_4, connection)\n",
    "print(f\"Кол-во вакансий для DS, в которых в качестве ключевого навыка указан Python: {df.iloc[0, 0]}\") "
   ]
  },
  {
   "cell_type": "markdown",
   "id": "ec3c8db7-fa21-4a41-a994-1af63742a642",
   "metadata": {
    "id": "ec3c8db7-fa21-4a41-a994-1af63742a642"
   },
   "source": [
    "5. Сколько ключевых навыков в среднем указывают в вакансиях для DS?\n",
    "Ответ округлите до двух знаков после точки-разделителя."
   ]
  },
  {
   "cell_type": "code",
   "execution_count": null,
   "id": "949132bc-d5b6-4611-8218-0b9a504d74f4",
   "metadata": {
    "id": "949132bc-d5b6-4611-8218-0b9a504d74f4"
   },
   "outputs": [],
   "source": [
    "query_6_5 = '''\n",
    "SELECT ROUND(AVG(CHAR_LENGTH(key_skills) - CHAR_LENGTH(REPLACE(key_skills, CHR(9), '')) + 1), 2) AS avg_key_skills_count\n",
    "-- Подсчёт среднего количества ключевых навыков в вакансиях для DS.\n",
    "-- Формула: считаем количество табуляций (CHR(9)) в строке key_skills и добавляем 1, чтобы получить количество навыков.\n",
    "FROM vacancies\n",
    "WHERE\n",
    "    (LOWER(name) LIKE '%data scientist%' OR                   -- Название вакансии содержит 'data scientist'\n",
    "    LOWER(name) LIKE '%data science%' OR                       -- или 'data science'\n",
    "    LOWER(name) LIKE '%исследователь данных%' OR               -- или 'исследователь данных'\n",
    "    (name LIKE '%ML%' AND LOWER(name) NOT LIKE '%html%') OR    -- или 'ML' без 'html'\n",
    "    LOWER(name) LIKE '%machine learning%' OR                   -- или 'machine learning'\n",
    "    LOWER(name) LIKE '%машинн%обучен%')                        -- или фраза, содержащая 'машинн' и 'обучен'\n",
    "    AND\n",
    "    (key_skills IS NOT NULL AND key_skills != '')             -- ключевые навыки не пустые\n",
    "''' "
   ]
  },
  {
   "cell_type": "code",
   "execution_count": null,
   "id": "a3V24Tvmviqk",
   "metadata": {
    "id": "a3V24Tvmviqk"
   },
   "outputs": [
    {
     "name": "stderr",
     "output_type": "stream",
     "text": [
      "C:\\Users\\kkeri\\AppData\\Local\\Temp\\ipykernel_13152\\876919462.py:1: UserWarning: pandas only supports SQLAlchemy connectable (engine/connection) or database string URI or sqlite3 DBAPI2 connection. Other DBAPI2 objects are not tested. Please consider using SQLAlchemy.\n",
      "  df = pd.read_sql_query(query_6_5, connection)\n"
     ]
    },
    {
     "name": "stdout",
     "output_type": "stream",
     "text": [
      "Среднее кол-во ключевых навыков в вакансиях для DS: 6.41\n"
     ]
    }
   ],
   "source": [
    "df = pd.read_sql_query(query_6_5, connection)\n",
    "print(f\"Среднее кол-во ключевых навыков в вакансиях для DS: {df.iloc[0, 0]}\") "
   ]
  },
  {
   "cell_type": "markdown",
   "id": "1041c17a-ca8f-4543-a0ca-32778914fb00",
   "metadata": {
    "id": "1041c17a-ca8f-4543-a0ca-32778914fb00"
   },
   "source": [
    "6. Напишите запрос, позволяющий вычислить, какую зарплату для DS в **среднем** указывают для каждого типа требуемого опыта (уникальное значение из поля *experience*). \n",
    "\n",
    "При решении задачи примите во внимание следующее:\n",
    "1. Рассматриваем только вакансии, у которых заполнено хотя бы одно из двух полей с зарплатой.\n",
    "2. Если заполнены оба поля с зарплатой, то считаем зарплату по каждой вакансии как сумму двух полей, делённую на 2. Если заполнено только одно из полей, то его и считаем зарплатой по вакансии.\n",
    "3. Если в расчётах участвует null, в результате он тоже даст null (посмотрите, что возвращает запрос select 1 + null). Чтобы избежать этой ситуацию, мы воспользуемся функцией [coalesce](https://postgrespro.ru/docs/postgresql/9.5/functions-conditional#functions-coalesce-nvl-ifnull), которая заменит null на значение, которое мы передадим. Например, посмотрите, что возвращает запрос `select 1 + coalesce(null, 0)`\n",
    "\n",
    "Выясните, на какую зарплату в среднем может рассчитывать дата-сайентист с опытом работы от 3 до 6 лет. Результат округлите до целого числа. "
   ]
  },
  {
   "cell_type": "code",
   "execution_count": null,
   "id": "6a743d39-5204-48d3-8271-b9f88e68d40e",
   "metadata": {
    "id": "6a743d39-5204-48d3-8271-b9f88e68d40e"
   },
   "outputs": [],
   "source": [
    "query_6_6 = '''\n",
    "SELECT\n",
    "    experience,\n",
    "    ROUND(AVG(\n",
    "        (COALESCE(salary_from, 0) + COALESCE(salary_to, 0)) / \n",
    "        NULLIF(\n",
    "            CASE\n",
    "                WHEN salary_from IS NOT NULL AND salary_to IS NOT NULL THEN 2\n",
    "                ELSE 1\n",
    "            END, 0)\n",
    "    )) AS avg_salary\n",
    "-- Вычисляем среднюю зарплату для DS по каждому уровню опыта.\n",
    "-- Используем COALESCE для замены NULL на 0, чтобы избежать NULL в сумме.\n",
    "-- Делим сумму на 2, если обе границы зарплаты указаны, иначе на 1.\n",
    "FROM vacancies\n",
    "WHERE\n",
    "    (\n",
    "        LOWER(name) LIKE '%data scientist%' OR\n",
    "        LOWER(name) LIKE '%data science%' OR\n",
    "        LOWER(name) LIKE '%исследователь данных%' OR\n",
    "        (name LIKE '%ML%' AND LOWER(name) NOT LIKE '%html%') OR\n",
    "        LOWER(name) LIKE '%machine learning%' OR\n",
    "        LOWER(name) LIKE '%машинн%обучен%'\n",
    "    )\n",
    "    AND (salary_from IS NOT NULL OR salary_to IS NOT NULL) -- Только вакансии с заполненной зарплатой\n",
    "GROUP BY experience\n",
    "ORDER BY experience;\n",
    "'''"
   ]
  },
  {
   "cell_type": "code",
   "execution_count": null,
   "id": "aRIJ0mZEwU1_",
   "metadata": {
    "id": "aRIJ0mZEwU1_"
   },
   "outputs": [
    {
     "name": "stderr",
     "output_type": "stream",
     "text": [
      "C:\\Users\\kkeri\\AppData\\Local\\Temp\\ipykernel_13152\\2145267395.py:1: UserWarning: pandas only supports SQLAlchemy connectable (engine/connection) or database string URI or sqlite3 DBAPI2 connection. Other DBAPI2 objects are not tested. Please consider using SQLAlchemy.\n",
      "  df = pd.read_sql_query(query_6_6, connection)\n"
     ]
    },
    {
     "name": "stdout",
     "output_type": "stream",
     "text": [
      "Средняя зарплата дата-сайентистов с опытом от 3 до 6 лет: 243115.0 рублей\n"
     ]
    }
   ],
   "source": [
    "df = pd.read_sql_query(query_6_6, connection)\n",
    "\n",
    "# Фильтрация по опыту 'От 3 до 6 лет'\n",
    "avg_salary_3_6 = df.loc[df['experience'].str.lower() == 'от 3 до 6 лет', 'avg_salary'].values\n",
    "avg_salary_3_6_value = avg_salary_3_6[0] if len(avg_salary_3_6) > 0 else 'Нет данных'\n",
    "\n",
    "print(f\"Средняя зарплата дата-сайентистов с опытом от 3 до 6 лет: {avg_salary_3_6_value} рублей\") "
   ]
  },
  {
   "cell_type": "markdown",
   "id": "6a7892b4-4113-4746-adce-18aa2844f18e",
   "metadata": {
    "id": "6a7892b4-4113-4746-adce-18aa2844f18e"
   },
   "source": [
    "***"
   ]
  },
  {
   "cell_type": "markdown",
   "id": "ea48f573",
   "metadata": {},
   "source": [
    "# **Выводы по предметному анализу**\n",
    "\n",
    "## 1. **Вакансии, связанные с данными**\n",
    "\n",
    "Кол-во вакансий, связанных с данными: **1 771**\n",
    "\n",
    "**Выводы:**\n",
    "\n",
    "- Сегмент вакансий по работе с данными достаточно велик для детального анализа.\n",
    "- Можно выделить подкатегории DS, ML, аналитики и смежных направлений.\n",
    "\n",
    "---\n",
    "\n",
    "## 2. **Вакансии для начинающего дата-сайентиста**\n",
    "\n",
    "Кол-во вакансий для начинающего DS: **51**\n",
    "\n",
    "**Выводы:**\n",
    "\n",
    "- Предложений для новичков немного, что говорит о высоких требованиях рынка.\n",
    "- Важно рассматривать стажировки и проекты для входа в профессию.\n",
    "\n",
    "---\n",
    "\n",
    "## 3. **Вакансии DS с ключевым навыком SQL или Postgres**\n",
    "\n",
    "Кол-во вакансий, где в ключевых навыках указан SQL или Postgres: **229**\n",
    "\n",
    "**Выводы:**\n",
    "\n",
    "- Владение SQL и Postgres остаётся востребованным базовым навыком для DS.\n",
    "- Рекомендуется углублять знания в работе с базами данных.\n",
    "\n",
    "---\n",
    "\n",
    "## 4. **Популярность Python в требованиях к DS**\n",
    "\n",
    "Кол-во вакансий, в которых Python указан в ключевых навыках: **357**\n",
    "\n",
    "**Выводы:**\n",
    "\n",
    "- Python — основной язык программирования для DS, что подтверждается большим количеством вакансий.\n",
    "- Кандидатам стоит уделять внимание Python-библиотекам и экосистеме.\n",
    "\n",
    "---\n",
    "\n",
    "## 5. **Среднее количество ключевых навыков в вакансиях для DS**\n",
    "\n",
    "Среднее число ключевых навыков: **6.41**\n",
    "\n",
    "**Выводы:**\n",
    "\n",
    "- Работодатели указывают широкий спектр требований к кандидатам.\n",
    "- Наличие 6+ навыков в резюме повышает шансы на успешное трудоустройство.\n",
    "\n",
    "---\n",
    "\n",
    "## 6. **Средняя зарплата DS по типу опыта**\n",
    "\n",
    "Средняя зарплата дата-сайентистов с опытом от 3 до 6 лет: **243 115 рублей**\n",
    "\n",
    "**Выводы:**\n",
    "\n",
    "- Опыт работы от 3 до 6 лет значительно повышает уровень дохода.\n",
    "- Инвестиции в развитие компетенций и практический опыт хорошо окупаются.\n",
    "\n",
    "---\n",
    "\n",
    "# **Общие рекомендации**\n",
    "\n",
    "- Для успешного старта важно получить базовые навыки SQL и Python.  \n",
    "- Начинающим рекомендуется искать стажировки и развивать проекты.  \n",
    "- Сосредоточьтесь на формировании разностороннего набора навыков (минимум 6 ключевых компетенций).  \n",
    "- Опыт и практические кейсы — главный фактор роста зарплаты и карьерного развития.\n",
    "\n",
    "---\n"
   ]
  },
  {
   "cell_type": "markdown",
   "id": "bf638b8f",
   "metadata": {},
   "source": [
    "# **Дополнительное исследование: Влияние уровня опыта и региона на уровень зарплат в вакансиях**\n",
    "\n",
    "---\n",
    "\n",
    "## **Цель исследования**\n",
    "\n",
    "Изучить влияние уровня опыта и региона на уровень предлагаемой зарплаты в вакансиях hh.ru с целью выявить регионы с наиболее высокими зарплатными предложениями для разных категорий соискателей.\n",
    "\n",
    "---\n",
    "\n",
    "## **План действий**\n",
    "\n",
    "1. Извлечь из базы вакансии с заполненной зарплатой.  \n",
    "2. Рассчитать среднюю зарплату как среднее между `salary_from` и `salary_to`.  \n",
    "3. Объединить вакансии с данными по регионам и опыту.  \n",
    "4. Отфильтровать группы с числом вакансий менее 20 для статистической значимости.  \n",
    "5. Рассчитать средние зарплаты по группам регион-опыт.  \n",
    "6. Построить таблицы и графики топ-5 (или топ-4) регионов для каждого уровня опыта.\n",
    "\n",
    "---"
   ]
  },
  {
   "cell_type": "code",
   "execution_count": null,
   "id": "5171a515",
   "metadata": {},
   "outputs": [
    {
     "name": "stderr",
     "output_type": "stream",
     "text": [
      "C:\\Users\\kkeri\\AppData\\Local\\Temp\\ipykernel_13152\\2779825684.py:33: UserWarning: pandas only supports SQLAlchemy connectable (engine/connection) or database string URI or sqlite3 DBAPI2 connection. Other DBAPI2 objects are not tested. Please consider using SQLAlchemy.\n",
      "  df_salary_exp_region = pd.read_sql_query(query_salary_exp_region, connection)\n"
     ]
    },
    {
     "name": "stdout",
     "output_type": "stream",
     "text": [
      "\n",
      "=== Опыт: Более 6 лет — Топ-4 регионов ===\n"
     ]
    },
    {
     "data": {
      "text/html": [
       "<div>\n",
       "<style scoped>\n",
       "    .dataframe tbody tr th:only-of-type {\n",
       "        vertical-align: middle;\n",
       "    }\n",
       "\n",
       "    .dataframe tbody tr th {\n",
       "        vertical-align: top;\n",
       "    }\n",
       "\n",
       "    .dataframe thead th {\n",
       "        text-align: right;\n",
       "    }\n",
       "</style>\n",
       "<table border=\"1\" class=\"dataframe\">\n",
       "  <thead>\n",
       "    <tr style=\"text-align: right;\">\n",
       "      <th></th>\n",
       "      <th>region</th>\n",
       "      <th>avg_salary</th>\n",
       "      <th>vacancies_count</th>\n",
       "    </tr>\n",
       "  </thead>\n",
       "  <tbody>\n",
       "    <tr>\n",
       "      <th>0</th>\n",
       "      <td>Москва</td>\n",
       "      <td>237817.0</td>\n",
       "      <td>50</td>\n",
       "    </tr>\n",
       "    <tr>\n",
       "      <th>1</th>\n",
       "      <td>Новосибирск</td>\n",
       "      <td>231462.0</td>\n",
       "      <td>23</td>\n",
       "    </tr>\n",
       "    <tr>\n",
       "      <th>2</th>\n",
       "      <td>Санкт-Петербург</td>\n",
       "      <td>197517.0</td>\n",
       "      <td>30</td>\n",
       "    </tr>\n",
       "    <tr>\n",
       "      <th>3</th>\n",
       "      <td>Алматы</td>\n",
       "      <td>131385.0</td>\n",
       "      <td>39</td>\n",
       "    </tr>\n",
       "  </tbody>\n",
       "</table>\n",
       "</div>"
      ],
      "text/plain": [
       "            region  avg_salary  vacancies_count\n",
       "0           Москва    237817.0               50\n",
       "1      Новосибирск    231462.0               23\n",
       "2  Санкт-Петербург    197517.0               30\n",
       "3           Алматы    131385.0               39"
      ]
     },
     "metadata": {},
     "output_type": "display_data"
    },
    {
     "name": "stdout",
     "output_type": "stream",
     "text": [
      "\n",
      "=== Опыт: Нет опыта — Топ-5 регионов ===\n"
     ]
    },
    {
     "data": {
      "text/html": [
       "<div>\n",
       "<style scoped>\n",
       "    .dataframe tbody tr th:only-of-type {\n",
       "        vertical-align: middle;\n",
       "    }\n",
       "\n",
       "    .dataframe tbody tr th {\n",
       "        vertical-align: top;\n",
       "    }\n",
       "\n",
       "    .dataframe thead th {\n",
       "        text-align: right;\n",
       "    }\n",
       "</style>\n",
       "<table border=\"1\" class=\"dataframe\">\n",
       "  <thead>\n",
       "    <tr style=\"text-align: right;\">\n",
       "      <th></th>\n",
       "      <th>region</th>\n",
       "      <th>avg_salary</th>\n",
       "      <th>vacancies_count</th>\n",
       "    </tr>\n",
       "  </thead>\n",
       "  <tbody>\n",
       "    <tr>\n",
       "      <th>4</th>\n",
       "      <td>Москва</td>\n",
       "      <td>65043.0</td>\n",
       "      <td>204</td>\n",
       "    </tr>\n",
       "    <tr>\n",
       "      <th>5</th>\n",
       "      <td>Сочи</td>\n",
       "      <td>64292.0</td>\n",
       "      <td>33</td>\n",
       "    </tr>\n",
       "    <tr>\n",
       "      <th>6</th>\n",
       "      <td>Новосибирск</td>\n",
       "      <td>53445.0</td>\n",
       "      <td>137</td>\n",
       "    </tr>\n",
       "    <tr>\n",
       "      <th>7</th>\n",
       "      <td>Владивосток</td>\n",
       "      <td>51970.0</td>\n",
       "      <td>85</td>\n",
       "    </tr>\n",
       "    <tr>\n",
       "      <th>8</th>\n",
       "      <td>Санкт-Петербург</td>\n",
       "      <td>51631.0</td>\n",
       "      <td>201</td>\n",
       "    </tr>\n",
       "  </tbody>\n",
       "</table>\n",
       "</div>"
      ],
      "text/plain": [
       "            region  avg_salary  vacancies_count\n",
       "4           Москва     65043.0              204\n",
       "5             Сочи     64292.0               33\n",
       "6      Новосибирск     53445.0              137\n",
       "7      Владивосток     51970.0               85\n",
       "8  Санкт-Петербург     51631.0              201"
      ]
     },
     "metadata": {},
     "output_type": "display_data"
    },
    {
     "name": "stdout",
     "output_type": "stream",
     "text": [
      "\n",
      "=== Опыт: От 1 года до 3 лет — Топ-5 регионов ===\n"
     ]
    },
    {
     "data": {
      "text/html": [
       "<div>\n",
       "<style scoped>\n",
       "    .dataframe tbody tr th:only-of-type {\n",
       "        vertical-align: middle;\n",
       "    }\n",
       "\n",
       "    .dataframe tbody tr th {\n",
       "        vertical-align: top;\n",
       "    }\n",
       "\n",
       "    .dataframe thead th {\n",
       "        text-align: right;\n",
       "    }\n",
       "</style>\n",
       "<table border=\"1\" class=\"dataframe\">\n",
       "  <thead>\n",
       "    <tr style=\"text-align: right;\">\n",
       "      <th></th>\n",
       "      <th>region</th>\n",
       "      <th>avg_salary</th>\n",
       "      <th>vacancies_count</th>\n",
       "    </tr>\n",
       "  </thead>\n",
       "  <tbody>\n",
       "    <tr>\n",
       "      <th>76</th>\n",
       "      <td>Москва</td>\n",
       "      <td>112622.0</td>\n",
       "      <td>825</td>\n",
       "    </tr>\n",
       "    <tr>\n",
       "      <th>77</th>\n",
       "      <td>Королев</td>\n",
       "      <td>104104.0</td>\n",
       "      <td>24</td>\n",
       "    </tr>\n",
       "    <tr>\n",
       "      <th>78</th>\n",
       "      <td>Зеленоград</td>\n",
       "      <td>100498.0</td>\n",
       "      <td>50</td>\n",
       "    </tr>\n",
       "    <tr>\n",
       "      <th>79</th>\n",
       "      <td>Подольск (Московская область)</td>\n",
       "      <td>95155.0</td>\n",
       "      <td>29</td>\n",
       "    </tr>\n",
       "    <tr>\n",
       "      <th>80</th>\n",
       "      <td>Пермь</td>\n",
       "      <td>94148.0</td>\n",
       "      <td>205</td>\n",
       "    </tr>\n",
       "  </tbody>\n",
       "</table>\n",
       "</div>"
      ],
      "text/plain": [
       "                           region  avg_salary  vacancies_count\n",
       "76                         Москва    112622.0              825\n",
       "77                        Королев    104104.0               24\n",
       "78                     Зеленоград    100498.0               50\n",
       "79  Подольск (Московская область)     95155.0               29\n",
       "80                          Пермь     94148.0              205"
      ]
     },
     "metadata": {},
     "output_type": "display_data"
    },
    {
     "name": "stdout",
     "output_type": "stream",
     "text": [
      "\n",
      "=== Опыт: От 3 до 6 лет — Топ-5 регионов ===\n"
     ]
    },
    {
     "data": {
      "text/html": [
       "<div>\n",
       "<style scoped>\n",
       "    .dataframe tbody tr th:only-of-type {\n",
       "        vertical-align: middle;\n",
       "    }\n",
       "\n",
       "    .dataframe tbody tr th {\n",
       "        vertical-align: top;\n",
       "    }\n",
       "\n",
       "    .dataframe thead th {\n",
       "        text-align: right;\n",
       "    }\n",
       "</style>\n",
       "<table border=\"1\" class=\"dataframe\">\n",
       "  <thead>\n",
       "    <tr style=\"text-align: right;\">\n",
       "      <th></th>\n",
       "      <th>region</th>\n",
       "      <th>avg_salary</th>\n",
       "      <th>vacancies_count</th>\n",
       "    </tr>\n",
       "  </thead>\n",
       "  <tbody>\n",
       "    <tr>\n",
       "      <th>164</th>\n",
       "      <td>Армения</td>\n",
       "      <td>241804.0</td>\n",
       "      <td>66</td>\n",
       "    </tr>\n",
       "    <tr>\n",
       "      <th>165</th>\n",
       "      <td>Тбилиси</td>\n",
       "      <td>229108.0</td>\n",
       "      <td>46</td>\n",
       "    </tr>\n",
       "    <tr>\n",
       "      <th>166</th>\n",
       "      <td>Кипр</td>\n",
       "      <td>228473.0</td>\n",
       "      <td>25</td>\n",
       "    </tr>\n",
       "    <tr>\n",
       "      <th>167</th>\n",
       "      <td>Баку</td>\n",
       "      <td>220758.0</td>\n",
       "      <td>23</td>\n",
       "    </tr>\n",
       "    <tr>\n",
       "      <th>168</th>\n",
       "      <td>Москва</td>\n",
       "      <td>186118.0</td>\n",
       "      <td>513</td>\n",
       "    </tr>\n",
       "  </tbody>\n",
       "</table>\n",
       "</div>"
      ],
      "text/plain": [
       "      region  avg_salary  vacancies_count\n",
       "164  Армения    241804.0               66\n",
       "165  Тбилиси    229108.0               46\n",
       "166     Кипр    228473.0               25\n",
       "167     Баку    220758.0               23\n",
       "168   Москва    186118.0              513"
      ]
     },
     "metadata": {},
     "output_type": "display_data"
    },
    {
     "name": "stderr",
     "output_type": "stream",
     "text": [
      "C:\\Users\\kkeri\\AppData\\Local\\Temp\\ipykernel_13152\\2779825684.py:60: FutureWarning: \n",
      "\n",
      "Passing `palette` without assigning `hue` is deprecated and will be removed in v0.14.0. Assign the `y` variable to `hue` and set `legend=False` for the same effect.\n",
      "\n",
      "  sns.barplot(\n",
      "C:\\Users\\kkeri\\AppData\\Local\\Temp\\ipykernel_13152\\2779825684.py:60: FutureWarning: \n",
      "\n",
      "Passing `palette` without assigning `hue` is deprecated and will be removed in v0.14.0. Assign the `y` variable to `hue` and set `legend=False` for the same effect.\n",
      "\n",
      "  sns.barplot(\n",
      "C:\\Users\\kkeri\\AppData\\Local\\Temp\\ipykernel_13152\\2779825684.py:60: FutureWarning: \n",
      "\n",
      "Passing `palette` without assigning `hue` is deprecated and will be removed in v0.14.0. Assign the `y` variable to `hue` and set `legend=False` for the same effect.\n",
      "\n",
      "  sns.barplot(\n",
      "C:\\Users\\kkeri\\AppData\\Local\\Temp\\ipykernel_13152\\2779825684.py:60: FutureWarning: \n",
      "\n",
      "Passing `palette` without assigning `hue` is deprecated and will be removed in v0.14.0. Assign the `y` variable to `hue` and set `legend=False` for the same effect.\n",
      "\n",
      "  sns.barplot(\n"
     ]
    },
    {
     "data": {
      "image/png": "[encoded data removed]",
      "text/plain": [
       "<Figure size 1400x1000 with 4 Axes>"
      ]
     },
     "metadata": {},
     "output_type": "display_data"
    }
   ],
   "source": [
    "import matplotlib.pyplot as plt\n",
    "import seaborn as sns\n",
    "\n",
    "# SQL-запрос: средняя зарплата по регионам и опыту (с фильтром по количеству вакансий)\n",
    "query_salary_exp_region = \"\"\"\n",
    "WITH salary_filled AS (\n",
    "    SELECT\n",
    "        v.id,\n",
    "        v.area_id,\n",
    "        v.experience,\n",
    "        CASE\n",
    "            WHEN salary_from IS NOT NULL AND salary_to IS NOT NULL THEN (salary_from + salary_to) / 2\n",
    "            WHEN salary_from IS NOT NULL THEN salary_from\n",
    "            WHEN salary_to IS NOT NULL THEN salary_to\n",
    "            ELSE NULL\n",
    "        END AS avg_salary\n",
    "    FROM vacancies v\n",
    "    WHERE salary_from IS NOT NULL OR salary_to IS NOT NULL\n",
    ")\n",
    "SELECT\n",
    "    a.name AS region,\n",
    "    s.experience,\n",
    "    ROUND(AVG(s.avg_salary)) AS avg_salary,\n",
    "    COUNT(*) AS vacancies_count\n",
    "FROM salary_filled s\n",
    "JOIN areas a ON s.area_id = a.id\n",
    "GROUP BY a.name, s.experience\n",
    "HAVING COUNT(*) > 20\n",
    "ORDER BY s.experience, avg_salary DESC;\n",
    "\"\"\"\n",
    "\n",
    "# Выполнение запроса и загрузка данных в DataFrame\n",
    "df_salary_exp_region = pd.read_sql_query(query_salary_exp_region, connection)\n",
    "\n",
    "# Закрываем соединение с БД\n",
    "connection.close()\n",
    "\n",
    "# Функция для вывода топ регионов по опыту\n",
    "def display_top_regions_by_experience(df, top_n=5):\n",
    "    experience_levels = df['experience'].unique()\n",
    "    for exp in experience_levels:\n",
    "        df_exp = df[df['experience'] == exp].sort_values(by='avg_salary', ascending=False)\n",
    "        count = min(len(df_exp), top_n)\n",
    "        print(f\"\\n=== Опыт: {exp} — Топ-{count} регион{'ов' if count > 1 else ''} ===\")\n",
    "        display(df_exp.head(count)[['region', 'avg_salary', 'vacancies_count']])\n",
    "\n",
    "display_top_regions_by_experience(df_salary_exp_region)\n",
    "\n",
    "# Визуализация: средняя зарплата по регионам и опыту\n",
    "plt.figure(figsize=(14, 10))\n",
    "sns.set(style='whitegrid')\n",
    "\n",
    "experience_levels = df_salary_exp_region['experience'].unique()\n",
    "\n",
    "for i, exp in enumerate(experience_levels, 1):\n",
    "    df_exp = df_salary_exp_region[df_salary_exp_region['experience'] == exp].sort_values(by='avg_salary', ascending=False)\n",
    "    count = min(len(df_exp), 5)\n",
    "    \n",
    "    plt.subplot(2, 2, i)\n",
    "    sns.barplot(\n",
    "        data=df_exp.head(count),\n",
    "        x='avg_salary',\n",
    "        y='region',\n",
    "        palette='viridis'\n",
    "    )\n",
    "    plt.title(f'Топ-{count} регион{\"ов\" if count > 1 else \"\"} по средней зарплате\\nОпыт: {exp}')\n",
    "    plt.xlabel('Средняя зарплата, руб.')\n",
    "    plt.ylabel('Регион')\n",
    "\n",
    "plt.tight_layout()\n",
    "plt.show()"
   ]
  },
  {
   "cell_type": "markdown",
   "id": "cf67b364",
   "metadata": {},
   "source": [
    "## **Ключевые результаты**\n",
    "\n",
    "- Для опытных специалистов (6+ лет) максимальные зарплаты наблюдаются в Москве (~238 тыс. руб.), Новосибирске и Санкт-Петербурге.  \n",
    "- Для начинающих (нет опыта) лидируют Москва и Сочи с зарплатами около 65 тыс. руб.  \n",
    "- Средний уровень опыта демонстрирует разнообразие регионов с достойными предложениями (например, Армения, Тбилиси, Кипр для 3–6 лет опыта).  \n",
    "- Визуализация подтверждает лидерство крупнейших городов по уровню зарплат.\n",
    "\n",
    "---\n",
    "\n",
    "## **Выводы**\n",
    "\n",
    "- Уровень опыта и регион — значимые факторы, влияющие на размер предлагаемой зарплаты.  \n",
    "- Москва и Санкт-Петербург остаются центрами высокооплачиваемых вакансий, но есть регионы с конкурентоспособными предложениями.  \n",
    "- Полученные данные могут помочь соискателям и работодателям в планировании карьеры и кадровой политики.\n",
    "\n",
    "---"
   ]
  },
  {
   "cell_type": "code",
   "execution_count": null,
   "id": "fbeda226",
   "metadata": {},
   "outputs": [],
   "source": [
    "# Закрываем соединение\n",
    "connection.close() "
   ]
  },
  {
   "cell_type": "markdown",
   "id": "0c26fed7",
   "metadata": {},
   "source": [
    "# **Общий вывод по проекту**\n",
    "\n",
    "## 1. **Масштаб и структура данных**\n",
    "\n",
    "- Всего в базе — почти 50 000 вакансий от более 23 000 работодателей, охватывающих свыше 1 300 регионов и около 300 сфер деятельности.\n",
    "- Рынок диверсифицирован, с активным участием как крупных, так и мелких компаний, что свидетельствует о высокой конкурентности.\n",
    "\n",
    "**Выводы:**  \n",
    "Рынок труда широк и разнообразен, с большим числом игроков и обширной географией, что создаёт множество возможностей для соискателей и работодателей.\n",
    "\n",
    "---\n",
    "\n",
    "## 2. **Распределение вакансий и опыт**\n",
    "\n",
    "- Вакансии сосредоточены преимущественно в крупных городах (Москва, Санкт-Петербург, Новосибирск и др.).\n",
    "- Большая часть вакансий ориентирована на специалистов с опытом от 1 до 6 лет; предложение для начинающих ограничено.\n",
    "\n",
    "**Выводы:**  \n",
    "Рынок требует от соискателей определённого уровня квалификации и опыта, особенно в востребованных регионах.\n",
    "\n",
    "---\n",
    "\n",
    "## 3. **Навыки и требования**\n",
    "\n",
    "- Для специалистов по данным (DS) среднее количество ключевых навыков составляет около 6.4.\n",
    "- Наиболее востребованы SQL/Postgres и Python, что отражает современные тренды в Data Science.\n",
    "- Для начинающих DS вакансий немного, что подчёркивает высокие требования отрасли.\n",
    "\n",
    "**Выводы:**  \n",
    "Кандидатам важно развивать широкую базу навыков, особенно владение Python и SQL, чтобы успешно конкурировать на рынке.\n",
    "\n",
    "---\n",
    "\n",
    "## 4. **Зарплаты**\n",
    "\n",
    "- Примерно половина вакансий содержит информацию о зарплате, что ограничивает полноту анализа.\n",
    "- Средняя зарплата для DS с опытом от 3 до 6 лет составляет около 243 000 рублей, что демонстрирует значительный рост дохода с опытом.\n",
    "- Зарплатная вилка варьируется, отражая различия в уровне квалификации, регионе и формате работы.\n",
    "\n",
    "**Выводы:**  \n",
    "Опыт является ключевым фактором в росте зарплаты, а прозрачность зарплатных данных требует улучшения для более точного анализа.\n",
    "\n",
    "---\n",
    "\n",
    "## 5. **Форматы работы и занятость**\n",
    "\n",
    "- Наиболее популярны полный рабочий день и полная занятость.\n",
    "- Удалённая работа занимает заметную долю и продолжает развиваться.\n",
    "- Редкие и гибкие форматы работы пока не получили широкого распространения.\n",
    "\n",
    "**Выводы:**  \n",
    "Традиционные форматы занятости доминируют, но растёт интерес к удалённой работе, что важно учитывать работодателям и соискателям.\n",
    "\n",
    "---\n",
    "\n",
    "## 6. **Общие рекомендации и перспективы**\n",
    "\n",
    "- Для успешного трудоустройства важно сочетание технических навыков (SQL, Python) и опыта.\n",
    "- Работодателям рекомендуется улучшать качество и полноту вакансий, особенно в части зарплат и требований.\n",
    "- Дальнейшие исследования могут включать прогнозирование трендов, кластеризацию регионов и отраслей, а также анализ влияния формата работы на рынок.\n",
    "\n",
    "---\n",
    "\n",
    "## 7. **Дополнительные исследования и идеи для продолжения**\n",
    "\n",
    "- **Прогнозирование зарплат:**  \n",
    "  Использовать машинное обучение для построения моделей предсказания зарплаты на основе опыта, навыков, региона и типа занятости.\n",
    "\n",
    "- **Анализ трендов навыков:**  \n",
    "  Изучить динамику востребованности конкретных навыков и технологий во времени, выявить растущие и снижающиеся направления.\n",
    "\n",
    "- **Кластеризация работодателей и регионов:**  \n",
    "  Провести кластерный анализ, чтобы выделить группы работодателей и регионов по специфике вакансий и требованиям.\n",
    "\n",
    "- **Влияние формата работы на зарплаты и уровень вакансий:**  \n",
    "  Исследовать связь между удалённой работой, гибким графиком и уровнем оплаты, чтобы понять, какие форматы наиболее выгодны.\n",
    "\n",
    "- **Рекомендательные системы:**  \n",
    "  Разработать систему рекомендаций для соискателей, учитывающую их опыт и навыки, для подбора релевантных вакансий.\n",
    "\n",
    "- **Анализ вакансий для новичков:**  \n",
    "  Углубиться в изучение предложений для начинающих, выявить лучшие пути входа в профессию.\n",
    "\n",
    "- **Обогащение данных:**  \n",
    "  Интегрировать данные с внешними источниками (например, LinkedIn, GitHub) для расширенного анализа профессиональных профилей.\n",
    "\n",
    "---\n",
    "\n",
    "# **Заключение**\n",
    "\n",
    "Исследование предоставляет глубокий и всесторонний взгляд на рынок труда в IT и Data Science. Полученные результаты полезны как для соискателей, так и для работодателей, а предложения по дальнейшему анализу открывают перспективы для более точных прогнозов и улучшения качества кадрового рынка."
   ]
  }
 ],
 "metadata": {
  "colab": {
   "collapsed_sections": [
    "8d62a9f3-f64e-4fe7-bdac-c4dffa16155e"
   ],
   "provenance": []
  },
  "kernelspec": {
   "display_name": "Python 3",
   "language": "python",
   "name": "python3"
  },
  "language_info": {
   "codemirror_mode": {
    "name": "ipython",
    "version": 3
   },
   "file_extension": ".py",
   "mimetype": "text/x-python",
   "name": "python",
   "nbconvert_exporter": "python",
   "pygments_lexer": "ipython3",
   "version": "3.11.0"
  }
 },
 "nbformat": 4,
 "nbformat_minor": 5
}
